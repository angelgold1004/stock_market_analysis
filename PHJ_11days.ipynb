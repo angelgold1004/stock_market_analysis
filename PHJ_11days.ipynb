{
  "nbformat": 4,
  "nbformat_minor": 0,
  "metadata": {
    "colab": {
      "private_outputs": true,
      "provenance": [],
      "include_colab_link": true
    },
    "kernelspec": {
      "name": "python3",
      "display_name": "Python 3"
    },
    "language_info": {
      "name": "python"
    }
  },
  "cells": [
    {
      "cell_type": "markdown",
      "metadata": {
        "id": "view-in-github",
        "colab_type": "text"
      },
      "source": [
        "<a href=\"https://colab.research.google.com/github/angelgold1004/stock_market_analysis/blob/main/PHJ_11days.ipynb\" target=\"_parent\"><img src=\"https://colab.research.google.com/assets/colab-badge.svg\" alt=\"Open In Colab\"/></a>"
      ]
    },
    {
      "cell_type": "code",
      "execution_count": null,
      "metadata": {
        "collapsed": true,
        "id": "7T_zDmZDFmjr"
      },
      "outputs": [],
      "source": [
        "!pip install pandas-datareader\n",
        "!pip install yfinance"
      ]
    },
    {
      "cell_type": "code",
      "source": [
        "from pandas_datareader import data\n",
        "import yfinance as yfin\n",
        "\n",
        "yfin.pdr_override()\n",
        "\n",
        "df = data.get_data_yahoo('005930.KS', start = '2022-01-01')"
      ],
      "metadata": {
        "id": "n3EfufLXFpGm"
      },
      "execution_count": null,
      "outputs": []
    },
    {
      "cell_type": "code",
      "source": [
        "from google.colab import drive\n",
        "drive.mount('/content/drive')"
      ],
      "metadata": {
        "id": "XZHtCsTMKHcK"
      },
      "execution_count": null,
      "outputs": []
    },
    {
      "cell_type": "code",
      "source": [
        "df.head()"
      ],
      "metadata": {
        "id": "wTC2AGWtKfhl"
      },
      "execution_count": null,
      "outputs": []
    },
    {
      "cell_type": "code",
      "source": [
        "import plotly.express as px\n",
        "\n",
        "fig = px.line(df, y=\"Close\")\n",
        "fig.show()"
      ],
      "metadata": {
        "id": "NJ-fMmVVFq4I"
      },
      "execution_count": null,
      "outputs": []
    },
    {
      "cell_type": "code",
      "source": [
        "fig = px.scatter(df, y='Close')\n",
        "fig.show()"
      ],
      "metadata": {
        "id": "Qr2CGdAkF5oM"
      },
      "execution_count": null,
      "outputs": []
    },
    {
      "cell_type": "code",
      "source": [
        "fig = px.bar(df, y='Close')\n",
        "fig.show()"
      ],
      "metadata": {
        "id": "7-ipBrQbK2fz"
      },
      "execution_count": null,
      "outputs": []
    },
    {
      "cell_type": "code",
      "source": [],
      "metadata": {
        "id": "jN0IsZ7rK-2-"
      },
      "execution_count": null,
      "outputs": []
    }
  ]
}