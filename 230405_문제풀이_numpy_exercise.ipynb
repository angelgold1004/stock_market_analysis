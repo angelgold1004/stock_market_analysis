{
  "cells": [
    {
      "cell_type": "markdown",
      "metadata": {
        "id": "view-in-github",
        "colab_type": "text"
      },
      "source": [
        "<a href=\"https://colab.research.google.com/github/angelgold1004/stock_market_analysis/blob/main/230405_%EB%AC%B8%EC%A0%9C%ED%92%80%EC%9D%B4_numpy_exercise.ipynb\" target=\"_parent\"><img src=\"https://colab.research.google.com/assets/colab-badge.svg\" alt=\"Open In Colab\"/></a>"
      ]
    },
    {
      "cell_type": "markdown",
      "metadata": {
        "id": "rKiHkzUc7VOV"
      },
      "source": [
        "# 과제 1\n",
        "## Q1. \n",
        "\n",
        "\n",
        "<div class=\"alert alert-success\">\n",
        "[문제1]     \n",
        "    \n",
        "원소가 1부터 5까지인 배열 arr이 있다. 각각의 요소의 루트를 씌운 값의 총합을 구하시오. \n",
        "</div>\n",
        "\n",
        "------------\n",
        "[힌트]  \n",
        "np.arange(1, 6)  \n",
        "list = [1,2,3,4,5]   \n",
        "8.382332347441762  "
      ]
    },
    {
      "cell_type": "code",
      "execution_count": null,
      "metadata": {
        "id": "aOW6jRjDTt__",
        "colab": {
          "base_uri": "https://localhost:8080/"
        },
        "outputId": "58a84602-7f03-4d04-c7f1-c1763e25b37a"
      },
      "outputs": [
        {
          "output_type": "execute_result",
          "data": {
            "text/plain": [
              "8.382332347441762"
            ]
          },
          "metadata": {},
          "execution_count": 14
        }
      ],
      "source": [
        "import numpy as np\n",
        "\n",
        "# 원소가 1부터 5까지인 배열 arr 생성\n",
        "arr = np.array([1,2,3,4,5])\n",
        "# arr = np.arange(1, 6)\n",
        "\n",
        "# 루트: sqrt, 총합: sum\n",
        "np.sum(np.sqrt(arr))"
      ]
    },
    {
      "cell_type": "markdown",
      "metadata": {
        "id": "jfW2jQRL7VOf"
      },
      "source": [
        "## Q2. \n",
        "\n",
        "<div class=\"alert alert-success\">\n",
        "[문제2]\n",
        "    \n",
        "    \n",
        "다음과 같은 배열 arr2를 만드시오.  \n",
        "    \n",
        "    \n",
        "arr2 = ( arr의 총합, arr의 평균, arr의 최소값, arr의 최대값)  \n",
        "[15.  3.  1.  5.]  \n",
        "</div>"
      ]
    },
    {
      "cell_type": "code",
      "execution_count": null,
      "metadata": {
        "id": "JTgNQNbFTuAA",
        "colab": {
          "base_uri": "https://localhost:8080/"
        },
        "outputId": "a3357dd1-ea5a-4019-9d90-a801d14f8bb1"
      },
      "outputs": [
        {
          "output_type": "execute_result",
          "data": {
            "text/plain": [
              "array([15.,  3.,  1.,  5.])"
            ]
          },
          "metadata": {},
          "execution_count": 15
        }
      ],
      "source": [
        "# 총합: sum, 평균: mean, 최소값: min, 최대값: max\n",
        "arr2 = np.array([np.sum(arr), np.mean(arr), np.min(arr), np.max(arr)])\n",
        "arr2"
      ]
    },
    {
      "cell_type": "markdown",
      "metadata": {
        "id": "_Bvykj0V7VOh"
      },
      "source": [
        "## Q3.\n",
        "\n",
        "<div class=\"alert alert-success\">\n",
        "[문제3]\n",
        "    \n",
        "    \n",
        "arr2의 구조를 확인하고(shape),\n",
        "arr2를 전치(transpose)한 배열 arr3를 만드시오.\n",
        "</div>\n",
        "\n",
        "------------\n",
        "[힌트]  \n",
        "\n",
        "arr3의 출력 결과\n",
        "\n",
        "[[15.]  \n",
        " [ 3.]   \n",
        " [ 1.]  \n",
        " [ 5.]]"
      ]
    },
    {
      "cell_type": "code",
      "execution_count": null,
      "metadata": {
        "id": "7To-1VpATuAB",
        "colab": {
          "base_uri": "https://localhost:8080/"
        },
        "outputId": "e8d1c4c2-d7e3-41ef-ae32-e05f4f8edad7"
      },
      "outputs": [
        {
          "output_type": "execute_result",
          "data": {
            "text/plain": [
              "(4,)"
            ]
          },
          "metadata": {},
          "execution_count": 16
        }
      ],
      "source": [
        "# arr2의 구조를 확인\n",
        "arr2.shape"
      ]
    },
    {
      "cell_type": "code",
      "source": [
        "arr2"
      ],
      "metadata": {
        "colab": {
          "base_uri": "https://localhost:8080/"
        },
        "id": "UkA8JLYSpz1t",
        "outputId": "0d991a4d-0871-499a-b3c5-24a0fef105fe"
      },
      "execution_count": null,
      "outputs": [
        {
          "output_type": "execute_result",
          "data": {
            "text/plain": [
              "array([15.,  3.,  1.,  5.])"
            ]
          },
          "metadata": {},
          "execution_count": 17
        }
      ]
    },
    {
      "cell_type": "code",
      "source": [
        "# 1차원 배열의 경우, 전치(transpose)한 결과가 동일\n",
        "arr2.T"
      ],
      "metadata": {
        "colab": {
          "base_uri": "https://localhost:8080/"
        },
        "id": "GqQSuHMspu_1",
        "outputId": "6484d149-0d77-4ebd-ecbc-750bf3a4c1a5"
      },
      "execution_count": null,
      "outputs": [
        {
          "output_type": "execute_result",
          "data": {
            "text/plain": [
              "array([15.,  3.,  1.,  5.])"
            ]
          },
          "metadata": {},
          "execution_count": 18
        }
      ]
    },
    {
      "cell_type": "code",
      "source": [
        "# 1차원 배열을 2차원으로 변경(reshape)\n",
        "# 방법1\n",
        "arr2.reshape((1,4)).T\n",
        "\n",
        "# 방법2\n",
        "arr2.reshape(4,1)"
      ],
      "metadata": {
        "colab": {
          "base_uri": "https://localhost:8080/"
        },
        "id": "AKX06N-3qWyc",
        "outputId": "1a603644-8a80-49fa-aadc-ab28f587ba5b"
      },
      "execution_count": null,
      "outputs": [
        {
          "output_type": "execute_result",
          "data": {
            "text/plain": [
              "array([[15.],\n",
              "       [ 3.],\n",
              "       [ 1.],\n",
              "       [ 5.]])"
            ]
          },
          "metadata": {},
          "execution_count": 19
        }
      ]
    },
    {
      "cell_type": "code",
      "source": [
        "arr3 = arr2.reshape((1,4)).T"
      ],
      "metadata": {
        "id": "R9IVmrXBslhQ"
      },
      "execution_count": null,
      "outputs": []
    },
    {
      "cell_type": "markdown",
      "metadata": {
        "id": "eAyEo1pr7VOj"
      },
      "source": [
        "\n",
        "## Q4. \n",
        "\n",
        "\n",
        "<div class=\"alert alert-success\">\n",
        "[문제4]\n",
        "    \n",
        "    \n",
        "arr2와 arr3를 행렬 곱 연산한 결과 값은 ? \n",
        "</div>\n",
        "\n",
        "[힌트]\n",
        "\n",
        "\n",
        " 260.\n",
        " \n",
        " \n",
        " 또는\n",
        " \n",
        " \n",
        " \n",
        " [[225.  45.  15.  75.]  \n",
        " [ 45.   9.   3.  15.]   \n",
        " [ 15.   3.   1.   5.]   \n",
        " [ 75.  15.   5.  25.]]   \n",
        "\n",
        "\n"
      ]
    },
    {
      "cell_type": "code",
      "execution_count": null,
      "metadata": {
        "id": "R_rZcbN-TuAC",
        "colab": {
          "base_uri": "https://localhost:8080/"
        },
        "outputId": "2ca34606-44a8-4877-842d-8087028c7c83"
      },
      "outputs": [
        {
          "output_type": "execute_result",
          "data": {
            "text/plain": [
              "array([260.])"
            ]
          },
          "metadata": {},
          "execution_count": 21
        }
      ],
      "source": [
        "arr2.dot(arr3)"
      ]
    },
    {
      "cell_type": "code",
      "source": [
        "print(arr2.shape)\n",
        "print(arr3.shape)"
      ],
      "metadata": {
        "colab": {
          "base_uri": "https://localhost:8080/"
        },
        "id": "cnfnfZefs7oX",
        "outputId": "ab264fb6-01be-460e-8702-14bd3c9ea3ba"
      },
      "execution_count": null,
      "outputs": [
        {
          "output_type": "stream",
          "name": "stdout",
          "text": [
            "(4,)\n",
            "(4, 1)\n"
          ]
        }
      ]
    },
    {
      "cell_type": "code",
      "source": [
        "arr3.dot(arr2.reshape(1,4))"
      ],
      "metadata": {
        "colab": {
          "base_uri": "https://localhost:8080/"
        },
        "id": "eiYXsm2lsy3-",
        "outputId": "e87221f5-e8d5-4a66-c4c4-587f6871d8dd"
      },
      "execution_count": null,
      "outputs": [
        {
          "output_type": "execute_result",
          "data": {
            "text/plain": [
              "array([[225.,  45.,  15.,  75.],\n",
              "       [ 45.,   9.,   3.,  15.],\n",
              "       [ 15.,   3.,   1.,   5.],\n",
              "       [ 75.,  15.,   5.,  25.]])"
            ]
          },
          "metadata": {},
          "execution_count": 23
        }
      ]
    },
    {
      "cell_type": "markdown",
      "metadata": {
        "id": "XXD0gqZd7VOl"
      },
      "source": [
        "# 과제 2\n",
        "## Q5.\n",
        "\n",
        "\n",
        "<div class=\"alert alert-success\">\n",
        "[문제5]\n",
        "    \n",
        "    \n",
        "arange 함수를 이용하여 원소가 1부터 16까지인 배열 arr을 만드세요.\n",
        "</div>\n"
      ]
    },
    {
      "cell_type": "code",
      "execution_count": null,
      "metadata": {
        "id": "8YdS8C_RTuAC",
        "colab": {
          "base_uri": "https://localhost:8080/"
        },
        "outputId": "9b8edd32-2103-4184-ee05-4ecb03caa48f"
      },
      "outputs": [
        {
          "output_type": "execute_result",
          "data": {
            "text/plain": [
              "array([ 1,  2,  3,  4,  5,  6,  7,  8,  9, 10, 11, 12, 13, 14, 15, 16])"
            ]
          },
          "metadata": {},
          "execution_count": 24
        }
      ],
      "source": [
        "arr = np.arange(1, 17)\n",
        "arr"
      ]
    },
    {
      "cell_type": "markdown",
      "metadata": {
        "id": "xQoZlXT37VOo"
      },
      "source": [
        "## Q6. \n",
        "\n",
        "\n",
        "<div class=\"alert alert-success\">\n",
        "[문제6]\n",
        "    \n",
        "    \n",
        "arr 배열을 4행 4열로 형상 변경하세요.\n",
        "</div>\n"
      ]
    },
    {
      "cell_type": "code",
      "execution_count": null,
      "metadata": {
        "id": "yqR3O1ddTuAD",
        "colab": {
          "base_uri": "https://localhost:8080/"
        },
        "outputId": "93fd1ded-cae4-4e31-d3a2-325be21f5198"
      },
      "outputs": [
        {
          "output_type": "execute_result",
          "data": {
            "text/plain": [
              "array([[ 1,  2,  3,  4],\n",
              "       [ 5,  6,  7,  8],\n",
              "       [ 9, 10, 11, 12],\n",
              "       [13, 14, 15, 16]])"
            ]
          },
          "metadata": {},
          "execution_count": 25
        }
      ],
      "source": [
        "# reshape\n",
        "arr = arr.reshape(4, 4)\n",
        "arr"
      ]
    },
    {
      "cell_type": "markdown",
      "metadata": {
        "id": "Z1Krivks7VOq"
      },
      "source": [
        "## Q7. \n",
        "\n",
        "\n",
        "<div class=\"alert alert-success\">\n",
        "[문제7]\n",
        "    \n",
        "arr에 대해 인덱싱과 슬라이싱을 이용하여 다음과 같은 배열 arr2, arr3를 만드시오.  \n",
        "arr2 :   \n",
        " [[2 3 4]  \n",
        " [6 7 8]]\n",
        "\n",
        "arr3 :   \n",
        " [[5 6 7]]  \n",
        "</div>\n",
        "\n",
        "\n"
      ]
    },
    {
      "cell_type": "code",
      "execution_count": null,
      "metadata": {
        "id": "9Ewu4czMTuAD",
        "colab": {
          "base_uri": "https://localhost:8080/"
        },
        "outputId": "30fbff1d-8958-4775-ace4-db3d42de09c5"
      },
      "outputs": [
        {
          "output_type": "execute_result",
          "data": {
            "text/plain": [
              "array([[2, 3, 4],\n",
              "       [6, 7, 8]])"
            ]
          },
          "metadata": {},
          "execution_count": 26
        }
      ],
      "source": [
        "arr2 = arr[0:2, 1:4]\n",
        "arr2"
      ]
    },
    {
      "cell_type": "code",
      "source": [
        "arr3 = arr[1, 0:3]\n",
        "arr3"
      ],
      "metadata": {
        "colab": {
          "base_uri": "https://localhost:8080/"
        },
        "id": "kxB7RNxWuYcZ",
        "outputId": "6a957a87-8acf-4517-a79f-6ce15eb5d017"
      },
      "execution_count": null,
      "outputs": [
        {
          "output_type": "execute_result",
          "data": {
            "text/plain": [
              "array([5, 6, 7])"
            ]
          },
          "metadata": {},
          "execution_count": 27
        }
      ]
    },
    {
      "cell_type": "markdown",
      "metadata": {
        "id": "dvS0QSuF7VOs"
      },
      "source": [
        "## Q8.\n",
        "\n",
        "<div class=\"alert alert-success\">\n",
        "[문제8]\n",
        "    \n",
        "arr3를 전치(transpose)하세요.\n",
        "</div>\n",
        "\n",
        "-----------------\n",
        "[힌트]\n",
        "\n",
        "\n",
        "[[5]  \n",
        " [6]  \n",
        " [7]]  \n"
      ]
    },
    {
      "cell_type": "code",
      "execution_count": null,
      "metadata": {
        "id": "cTBB34sUTuAE"
      },
      "outputs": [],
      "source": [
        "arr3 = arr3.reshape(1,3).T"
      ]
    },
    {
      "cell_type": "markdown",
      "metadata": {
        "id": "B7bP7F3i7VOv"
      },
      "source": [
        "## Q9.\n",
        "\n",
        "\n",
        "<div class=\"alert alert-success\">\n",
        "[문제9]\n",
        "    \n",
        "arr2와 arr3를 행렬 연산한 결과를 구하시오.\n",
        "</div>\n",
        "\n",
        "-----------------\n",
        "\n",
        "\n",
        "\n",
        "\n",
        "**[결과]**  \n",
        "[[ 56]  \n",
        " [128]]"
      ]
    },
    {
      "cell_type": "code",
      "execution_count": null,
      "metadata": {
        "id": "fpKMMa6wTuAE",
        "colab": {
          "base_uri": "https://localhost:8080/"
        },
        "outputId": "369e68db-8501-451f-818f-3b862e0ea5ce"
      },
      "outputs": [
        {
          "output_type": "execute_result",
          "data": {
            "text/plain": [
              "array([[ 56],\n",
              "       [128]])"
            ]
          },
          "metadata": {},
          "execution_count": 29
        }
      ],
      "source": [
        "# print(arr2.shape)\n",
        "# print(arr3.shape)\n",
        "arr2.dot(arr3)"
      ]
    },
    {
      "cell_type": "markdown",
      "metadata": {
        "id": "qiIru0If7VOx"
      },
      "source": [
        "# 과제 3\n",
        "## Q10.\n",
        "\n",
        "<div class=\"alert alert-success\">\n",
        "[문제10]\n",
        "    \n",
        "np.random을 이용하여 모든 요소의 값이 3 <= 값 < 7인   \n",
        "요소 4개를 갖는 1차원 배열 arr을 생성하시오.  \n",
        "예시) arr = [4, 3, 4, 6]  \n",
        "</div>\n",
        "\n",
        "\n",
        "\n"
      ]
    },
    {
      "cell_type": "code",
      "execution_count": null,
      "metadata": {
        "id": "yzqVs3ieTuAF",
        "colab": {
          "base_uri": "https://localhost:8080/"
        },
        "outputId": "a89d24d4-0e95-4164-de7a-2de9aa2a4be9"
      },
      "outputs": [
        {
          "output_type": "execute_result",
          "data": {
            "text/plain": [
              "array([6, 4, 6, 3])"
            ]
          },
          "metadata": {},
          "execution_count": 30
        }
      ],
      "source": [
        "arr = np.random.randint(3, 7, 4)\n",
        "arr"
      ]
    },
    {
      "cell_type": "code",
      "source": [
        "import numpy as np\n",
        "arr = np.random.randint(3, 7, 4)\n",
        "arr"
      ],
      "metadata": {
        "colab": {
          "base_uri": "https://localhost:8080/"
        },
        "id": "dzL95Vl00jvO",
        "outputId": "945a6322-41e2-4112-9491-0e2a71878b25"
      },
      "execution_count": null,
      "outputs": [
        {
          "output_type": "execute_result",
          "data": {
            "text/plain": [
              "array([4, 5, 5, 4])"
            ]
          },
          "metadata": {},
          "execution_count": 31
        }
      ]
    },
    {
      "cell_type": "markdown",
      "metadata": {
        "id": "XHC6Qbjs7VOz"
      },
      "source": [
        "## Q11. \n",
        "\n",
        "<div class=\"alert alert-success\">\n",
        "[문제11]\n",
        "    \n",
        "arr을 2*2 형상 변경하시오.\n",
        "</div>\n"
      ]
    },
    {
      "cell_type": "code",
      "execution_count": null,
      "metadata": {
        "id": "NFm7UYF5TuAF",
        "colab": {
          "base_uri": "https://localhost:8080/"
        },
        "outputId": "493d1043-eaad-490a-d215-5bb155ef4007"
      },
      "outputs": [
        {
          "output_type": "execute_result",
          "data": {
            "text/plain": [
              "array([[4, 5],\n",
              "       [5, 4]])"
            ]
          },
          "metadata": {},
          "execution_count": 32
        }
      ],
      "source": [
        "arr.reshape(2,2)"
      ]
    },
    {
      "cell_type": "markdown",
      "metadata": {
        "id": "oqbJuv3tNpuU"
      },
      "source": [
        "## Q12. \n",
        "\n",
        "\n",
        "<div class=\"alert alert-success\">\n",
        "[문제12]\n",
        "다음과 같이 동작하는 로또 번호 생성기를 작성하시오.\n",
        "    \n",
        "    \n",
        "    - 사용자로부터 로또 번호를 몇 개 생성할지 입력받는다    \n",
        "    \n",
        "    - 사용자가 입력한 개수 만큼 로또 번호를 생성하여 출력한다    \n",
        "    \n",
        "    - 로또번호는 숫자가 작은 수부터 순서대로 정렬하여 출력한다\n",
        "    \n",
        "    - 로또 번호는 1부터 46까지 서로 다른 6개의 정수로 이루어져있다    \n",
        "        \n",
        "    - 로또 번호 생성기 로직은 함수로 작성하여 재활용이 가능하도록 한다    \n",
        "   \n",
        "\n",
        "</div>\n",
        "    \n",
        "[실행 예시]\n",
        "로또번호를 몇 개 생성할까요? 3  \n",
        "1. 로또번호: [10 13 16 30 37 41]  \n",
        "2. 로또번호: [ 4 10 15 25 29 42]  \n",
        "3. 로또번호: [ 6 26 31 39 40 45]  \n",
        "\n",
        "  "
      ]
    },
    {
      "cell_type": "code",
      "execution_count": null,
      "metadata": {
        "id": "wDUTTmnETuAF",
        "colab": {
          "base_uri": "https://localhost:8080/"
        },
        "outputId": "66745c64-9cdf-4685-8475-2e226d9f54f1"
      },
      "outputs": [
        {
          "output_type": "stream",
          "name": "stdout",
          "text": [
            "로또번호를 몇 개 생성할까요? 3\n",
            "1. 로또번호:[ 4  5 17 18 21 34]\n",
            "2. 로또번호:[12 19 19 26 27 33]\n",
            "3. 로또번호:[ 2 14 17 19 27 40]\n"
          ]
        }
      ],
      "source": [
        "n = input('로또번호를 몇 개 생성할까요? ')\n",
        "for i in range(int(n)):\n",
        "    lotto = np.random.randint(1, 47, 6)\n",
        "    print('{}. 로또번호:{}'.format(str(i+1), np.sort(lotto)))"
      ]
    },
    {
      "cell_type": "markdown",
      "metadata": {
        "id": "nZZ1gpFRRxSm"
      },
      "source": [
        "## Q13. \n",
        "\n",
        "\n",
        "<div class=\"alert alert-success\">\n",
        "    \n",
        "[문제13]\n",
        "    \n",
        "오늘의 로또번호는 [9, 12, 17, 21, 40, 42]입니다.  \n",
        "    \n",
        "오늘의 로또번호 합보다 더 큰 조합을 가지고 있는 경우, 이벤트 쿠폰을 발행하려고 합니다.\n",
        "    \n",
        "몇 장의 이벤트 쿠폰을 발행해야하는지 판단하는 로직을 작성하세요\n",
        "\n",
        "</div>\n",
        "\n",
        "[실행 예시]\n",
        "\n",
        "\n",
        "\n",
        "로또번호를 몇 개 생성할까요? 3\n",
        "1. 로또번호: [ 1 15 36 39 41 45]  \n",
        "이벤트 당첨, 오늘의 로또번호 합= 141, 당첨된 로또번호 합=177\n",
        "2. 로또번호: [ 6  9 12 19 27 42]  \n",
        "3. 로또번호: [ 4  7 36 39 39 44]  \n",
        "이벤트 당첨, 오늘의 로또번호 합= 141, 당첨된 로또번호 합=169\n"
      ]
    },
    {
      "cell_type": "code",
      "execution_count": null,
      "metadata": {
        "id": "03f1vg5CRwhf",
        "colab": {
          "base_uri": "https://localhost:8080/"
        },
        "outputId": "9f55b40a-128a-4ff9-89a8-75b008b862ed"
      },
      "outputs": [
        {
          "output_type": "stream",
          "name": "stdout",
          "text": [
            "로또번호를 몇 개 생성할까요? 3\n",
            "1. 로또번호:[18 22 28 33 40 43]\n",
            "   이벤트 당첨, 오늘의 로또번호 합= 141, 당첨된 로또번호 합=184\n",
            "2. 로또번호:[ 4  5 14 21 33 42]\n",
            "   이벤트 당첨, 오늘의 로또번호 합= 141, 당첨된 로또번호 합=119\n",
            "3. 로또번호:[ 2 10 17 21 38 41]\n",
            "   이벤트 당첨, 오늘의 로또번호 합= 141, 당첨된 로또번호 합=129\n"
          ]
        }
      ],
      "source": [
        "today = np.array([9, 12, 17, 21, 40, 42])\n",
        "\n",
        "def createLottoNumber2(count):\n",
        "    for i in range(int(n)):\n",
        "        lotto = np.random.randint(1, 47, 6)\n",
        "        print('{}. 로또번호:{}'.format(str(i+1), np.sort(lotto)))\n",
        "        print('   이벤트 당첨, 오늘의 로또번호 합= {}, 당첨된 로또번호 합={}'.format(today.sum(), lotto.sum()))\n",
        "        \n",
        "count = int(input(\"로또번호를 몇 개 생성할까요? \"))\n",
        "createLottoNumber2(count)"
      ]
    },
    {
      "cell_type": "markdown",
      "metadata": {
        "id": "OnXN17-xTuAG"
      },
      "source": [
        "# 과제 4\n",
        "## Q14. \n",
        "\n",
        "\n",
        "<div class=\"alert alert-success\">\n",
        "    \n",
        "[문제14]\n",
        "    \n",
        "수학 시험 답안 채점 프로그램을 만드시오.\n",
        "    \n",
        "    정답 = [3, 2, 1, 4, 4, 3, 4, 4, 3, 3]\n",
        "    \n",
        "    - 문제 수: 10\n",
        "    - 보기: 1번 ~ 5번\n",
        "    - 학생들의 샘플 답안 생성: 10개\n",
        "    - 문항 별 정오답 여부 출력\n",
        "    - 10점 만점에 몇 점인지 출력\n",
        "</div>\n",
        "\n",
        "\n",
        "1. 채점결과: [False  True False False  True False False False  True  True], 점수: 4\n",
        "2. 채점결과: [False  True False  True False False False  True False False], 점수: 3\n",
        "3. 채점결과: [ True  True  True False False False False  True False  True], 점수: 5\n",
        "4. 채점결과: [False False  True False False  True False False False  True], 점수: 3\n",
        "5. 채점결과: [False  True False  True False  True False  True False False], 점수: 4\n",
        "6. 채점결과: [False False False  True False False False False False False], 점수: 1\n",
        "7. 채점결과: [False  True  True False  True False False False False  True], 점수: 4\n",
        "8. 채점결과: [False  True  True False False False  True False False False], 점수: 3\n",
        "9. 채점결과: [ True False False False False  True False  True False False], 점수: 3\n",
        "10. 채점결과: [False  True  True False False False  True False False False], 점수: 3\n"
      ]
    },
    {
      "cell_type": "code",
      "execution_count": null,
      "metadata": {
        "id": "Xz3gIbnMTuAH"
      },
      "outputs": [],
      "source": [
        "# 주어진 코드\n",
        "correct = np.array([3, 2, 1, 4, 4, 3, 4, 4, 3, 3])\n",
        "\n",
        "count = 10\n",
        "students = 10\n",
        "answers = np.random.randint(1, 5, size=count*students)\n",
        "answers = answers.reshape(count, students)"
      ]
    },
    {
      "cell_type": "code",
      "execution_count": null,
      "metadata": {
        "id": "RjMfoJqZTuAH",
        "colab": {
          "base_uri": "https://localhost:8080/"
        },
        "outputId": "751dbb2f-0660-4a50-ade0-0fdcee79f1a2"
      },
      "outputs": [
        {
          "output_type": "stream",
          "name": "stdout",
          "text": [
            "1. 채점결과:[False  True False False False False False False False False], 점수:1\n",
            "2. 채점결과:[False False False False False  True False  True  True False], 점수:3\n",
            "3. 채점결과:[ True False False False False  True False  True False  True], 점수:4\n",
            "4. 채점결과:[False False False False  True False False False  True False], 점수:2\n",
            "5. 채점결과:[ True False False False False False False False False False], 점수:1\n",
            "6. 채점결과:[False  True  True False False False  True False False False], 점수:3\n",
            "7. 채점결과:[False False False False False  True False False False  True], 점수:2\n",
            "8. 채점결과:[False False False  True False  True  True  True False  True], 점수:5\n",
            "9. 채점결과:[False False  True  True False  True  True  True False  True], 점수:6\n",
            "10. 채점결과:[False  True False False False False False False False  True], 점수:2\n"
          ]
        }
      ],
      "source": [
        "def check_answer_sheet(correct, answers):\n",
        "    for i in range(students):\n",
        "        check = np.array(correct == answers[i])\n",
        "        print(\"{}. 채점결과:{}, 점수:{}\".format(i+1, check, np.sum(check)))\n",
        "\n",
        "check_answer_sheet(correct, answers)"
      ]
    },
    {
      "cell_type": "code",
      "execution_count": null,
      "metadata": {
        "id": "ANu1WpsvTuAH"
      },
      "outputs": [],
      "source": []
    }
  ],
  "metadata": {
    "colab": {
      "provenance": [],
      "include_colab_link": true
    },
    "kernelspec": {
      "display_name": "Python 3",
      "language": "python",
      "name": "python3"
    },
    "language_info": {
      "codemirror_mode": {
        "name": "ipython",
        "version": 3
      },
      "file_extension": ".py",
      "mimetype": "text/x-python",
      "name": "python",
      "nbconvert_exporter": "python",
      "pygments_lexer": "ipython3",
      "version": "3.8.5"
    },
    "toc": {
      "base_numbering": 1,
      "nav_menu": {},
      "number_sections": false,
      "sideBar": true,
      "skip_h1_title": false,
      "title_cell": "Table of Contents",
      "title_sidebar": "Contents",
      "toc_cell": false,
      "toc_position": {},
      "toc_section_display": true,
      "toc_window_display": true
    }
  },
  "nbformat": 4,
  "nbformat_minor": 0
}