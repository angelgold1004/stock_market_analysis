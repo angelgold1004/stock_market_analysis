{
  "cells": [
    {
      "cell_type": "markdown",
      "metadata": {
        "id": "view-in-github",
        "colab_type": "text"
      },
      "source": [
        "<a href=\"https://colab.research.google.com/github/angelgold1004/stock_market_analysis/blob/main/breast_cancer.ipynb\" target=\"_parent\"><img src=\"https://colab.research.google.com/assets/colab-badge.svg\" alt=\"Open In Colab\"/></a>"
      ]
    },
    {
      "cell_type": "markdown",
      "metadata": {
        "id": "xA1gTOzI6mbh"
      },
      "source": [
        "# Breast cancer\n",
        "\n",
        "- [데이터 설명](https://scikit-learn.org/stable/modules/generated/sklearn.datasets.load_breast_cancer.html#sklearn.datasets.load_breast_cancer)\n",
        "  "
      ]
    },
    {
      "cell_type": "markdown",
      "metadata": {
        "id": "zWz4L1Ah6mbn"
      },
      "source": [
        "## Load library"
      ]
    },
    {
      "cell_type": "code",
      "execution_count": null,
      "metadata": {
        "id": "9xSxU82h6mbn"
      },
      "outputs": [],
      "source": [
        "import pandas as pd\n",
        "import seaborn as sns\n",
        "from sklearn.datasets import load_breast_cancer"
      ]
    },
    {
      "cell_type": "markdown",
      "metadata": {
        "id": "Vh6GciKX6mbn"
      },
      "source": [
        "## Load Data"
      ]
    },
    {
      "cell_type": "code",
      "execution_count": null,
      "metadata": {
        "colab": {
          "base_uri": "https://localhost:8080/",
          "height": 334
        },
        "id": "PTQC_YgU6mbo",
        "outputId": "7ab78a98-8d31-4fd2-993d-55a3023bb074"
      },
      "outputs": [
        {
          "output_type": "execute_result",
          "data": {
            "text/plain": [
              "   mean radius  mean texture  mean perimeter  mean area  mean smoothness  \\\n",
              "0        17.99         10.38          122.80     1001.0          0.11840   \n",
              "1        20.57         17.77          132.90     1326.0          0.08474   \n",
              "2        19.69         21.25          130.00     1203.0          0.10960   \n",
              "3        11.42         20.38           77.58      386.1          0.14250   \n",
              "4        20.29         14.34          135.10     1297.0          0.10030   \n",
              "\n",
              "   mean compactness  mean concavity  mean concave points  mean symmetry  \\\n",
              "0           0.27760          0.3001              0.14710         0.2419   \n",
              "1           0.07864          0.0869              0.07017         0.1812   \n",
              "2           0.15990          0.1974              0.12790         0.2069   \n",
              "3           0.28390          0.2414              0.10520         0.2597   \n",
              "4           0.13280          0.1980              0.10430         0.1809   \n",
              "\n",
              "   mean fractal dimension  ...  worst texture  worst perimeter  worst area  \\\n",
              "0                 0.07871  ...          17.33           184.60      2019.0   \n",
              "1                 0.05667  ...          23.41           158.80      1956.0   \n",
              "2                 0.05999  ...          25.53           152.50      1709.0   \n",
              "3                 0.09744  ...          26.50            98.87       567.7   \n",
              "4                 0.05883  ...          16.67           152.20      1575.0   \n",
              "\n",
              "   worst smoothness  worst compactness  worst concavity  worst concave points  \\\n",
              "0            0.1622             0.6656           0.7119                0.2654   \n",
              "1            0.1238             0.1866           0.2416                0.1860   \n",
              "2            0.1444             0.4245           0.4504                0.2430   \n",
              "3            0.2098             0.8663           0.6869                0.2575   \n",
              "4            0.1374             0.2050           0.4000                0.1625   \n",
              "\n",
              "   worst symmetry  worst fractal dimension  label  \n",
              "0          0.4601                  0.11890      0  \n",
              "1          0.2750                  0.08902      0  \n",
              "2          0.3613                  0.08758      0  \n",
              "3          0.6638                  0.17300      0  \n",
              "4          0.2364                  0.07678      0  \n",
              "\n",
              "[5 rows x 31 columns]"
            ],
            "text/html": [
              "\n",
              "  <div id=\"df-b5a02a67-9e2d-4139-a250-728dccaeaa7f\">\n",
              "    <div class=\"colab-df-container\">\n",
              "      <div>\n",
              "<style scoped>\n",
              "    .dataframe tbody tr th:only-of-type {\n",
              "        vertical-align: middle;\n",
              "    }\n",
              "\n",
              "    .dataframe tbody tr th {\n",
              "        vertical-align: top;\n",
              "    }\n",
              "\n",
              "    .dataframe thead th {\n",
              "        text-align: right;\n",
              "    }\n",
              "</style>\n",
              "<table border=\"1\" class=\"dataframe\">\n",
              "  <thead>\n",
              "    <tr style=\"text-align: right;\">\n",
              "      <th></th>\n",
              "      <th>mean radius</th>\n",
              "      <th>mean texture</th>\n",
              "      <th>mean perimeter</th>\n",
              "      <th>mean area</th>\n",
              "      <th>mean smoothness</th>\n",
              "      <th>mean compactness</th>\n",
              "      <th>mean concavity</th>\n",
              "      <th>mean concave points</th>\n",
              "      <th>mean symmetry</th>\n",
              "      <th>mean fractal dimension</th>\n",
              "      <th>...</th>\n",
              "      <th>worst texture</th>\n",
              "      <th>worst perimeter</th>\n",
              "      <th>worst area</th>\n",
              "      <th>worst smoothness</th>\n",
              "      <th>worst compactness</th>\n",
              "      <th>worst concavity</th>\n",
              "      <th>worst concave points</th>\n",
              "      <th>worst symmetry</th>\n",
              "      <th>worst fractal dimension</th>\n",
              "      <th>label</th>\n",
              "    </tr>\n",
              "  </thead>\n",
              "  <tbody>\n",
              "    <tr>\n",
              "      <th>0</th>\n",
              "      <td>17.99</td>\n",
              "      <td>10.38</td>\n",
              "      <td>122.80</td>\n",
              "      <td>1001.0</td>\n",
              "      <td>0.11840</td>\n",
              "      <td>0.27760</td>\n",
              "      <td>0.3001</td>\n",
              "      <td>0.14710</td>\n",
              "      <td>0.2419</td>\n",
              "      <td>0.07871</td>\n",
              "      <td>...</td>\n",
              "      <td>17.33</td>\n",
              "      <td>184.60</td>\n",
              "      <td>2019.0</td>\n",
              "      <td>0.1622</td>\n",
              "      <td>0.6656</td>\n",
              "      <td>0.7119</td>\n",
              "      <td>0.2654</td>\n",
              "      <td>0.4601</td>\n",
              "      <td>0.11890</td>\n",
              "      <td>0</td>\n",
              "    </tr>\n",
              "    <tr>\n",
              "      <th>1</th>\n",
              "      <td>20.57</td>\n",
              "      <td>17.77</td>\n",
              "      <td>132.90</td>\n",
              "      <td>1326.0</td>\n",
              "      <td>0.08474</td>\n",
              "      <td>0.07864</td>\n",
              "      <td>0.0869</td>\n",
              "      <td>0.07017</td>\n",
              "      <td>0.1812</td>\n",
              "      <td>0.05667</td>\n",
              "      <td>...</td>\n",
              "      <td>23.41</td>\n",
              "      <td>158.80</td>\n",
              "      <td>1956.0</td>\n",
              "      <td>0.1238</td>\n",
              "      <td>0.1866</td>\n",
              "      <td>0.2416</td>\n",
              "      <td>0.1860</td>\n",
              "      <td>0.2750</td>\n",
              "      <td>0.08902</td>\n",
              "      <td>0</td>\n",
              "    </tr>\n",
              "    <tr>\n",
              "      <th>2</th>\n",
              "      <td>19.69</td>\n",
              "      <td>21.25</td>\n",
              "      <td>130.00</td>\n",
              "      <td>1203.0</td>\n",
              "      <td>0.10960</td>\n",
              "      <td>0.15990</td>\n",
              "      <td>0.1974</td>\n",
              "      <td>0.12790</td>\n",
              "      <td>0.2069</td>\n",
              "      <td>0.05999</td>\n",
              "      <td>...</td>\n",
              "      <td>25.53</td>\n",
              "      <td>152.50</td>\n",
              "      <td>1709.0</td>\n",
              "      <td>0.1444</td>\n",
              "      <td>0.4245</td>\n",
              "      <td>0.4504</td>\n",
              "      <td>0.2430</td>\n",
              "      <td>0.3613</td>\n",
              "      <td>0.08758</td>\n",
              "      <td>0</td>\n",
              "    </tr>\n",
              "    <tr>\n",
              "      <th>3</th>\n",
              "      <td>11.42</td>\n",
              "      <td>20.38</td>\n",
              "      <td>77.58</td>\n",
              "      <td>386.1</td>\n",
              "      <td>0.14250</td>\n",
              "      <td>0.28390</td>\n",
              "      <td>0.2414</td>\n",
              "      <td>0.10520</td>\n",
              "      <td>0.2597</td>\n",
              "      <td>0.09744</td>\n",
              "      <td>...</td>\n",
              "      <td>26.50</td>\n",
              "      <td>98.87</td>\n",
              "      <td>567.7</td>\n",
              "      <td>0.2098</td>\n",
              "      <td>0.8663</td>\n",
              "      <td>0.6869</td>\n",
              "      <td>0.2575</td>\n",
              "      <td>0.6638</td>\n",
              "      <td>0.17300</td>\n",
              "      <td>0</td>\n",
              "    </tr>\n",
              "    <tr>\n",
              "      <th>4</th>\n",
              "      <td>20.29</td>\n",
              "      <td>14.34</td>\n",
              "      <td>135.10</td>\n",
              "      <td>1297.0</td>\n",
              "      <td>0.10030</td>\n",
              "      <td>0.13280</td>\n",
              "      <td>0.1980</td>\n",
              "      <td>0.10430</td>\n",
              "      <td>0.1809</td>\n",
              "      <td>0.05883</td>\n",
              "      <td>...</td>\n",
              "      <td>16.67</td>\n",
              "      <td>152.20</td>\n",
              "      <td>1575.0</td>\n",
              "      <td>0.1374</td>\n",
              "      <td>0.2050</td>\n",
              "      <td>0.4000</td>\n",
              "      <td>0.1625</td>\n",
              "      <td>0.2364</td>\n",
              "      <td>0.07678</td>\n",
              "      <td>0</td>\n",
              "    </tr>\n",
              "  </tbody>\n",
              "</table>\n",
              "<p>5 rows × 31 columns</p>\n",
              "</div>\n",
              "      <button class=\"colab-df-convert\" onclick=\"convertToInteractive('df-b5a02a67-9e2d-4139-a250-728dccaeaa7f')\"\n",
              "              title=\"Convert this dataframe to an interactive table.\"\n",
              "              style=\"display:none;\">\n",
              "        \n",
              "  <svg xmlns=\"http://www.w3.org/2000/svg\" height=\"24px\"viewBox=\"0 0 24 24\"\n",
              "       width=\"24px\">\n",
              "    <path d=\"M0 0h24v24H0V0z\" fill=\"none\"/>\n",
              "    <path d=\"M18.56 5.44l.94 2.06.94-2.06 2.06-.94-2.06-.94-.94-2.06-.94 2.06-2.06.94zm-11 1L8.5 8.5l.94-2.06 2.06-.94-2.06-.94L8.5 2.5l-.94 2.06-2.06.94zm10 10l.94 2.06.94-2.06 2.06-.94-2.06-.94-.94-2.06-.94 2.06-2.06.94z\"/><path d=\"M17.41 7.96l-1.37-1.37c-.4-.4-.92-.59-1.43-.59-.52 0-1.04.2-1.43.59L10.3 9.45l-7.72 7.72c-.78.78-.78 2.05 0 2.83L4 21.41c.39.39.9.59 1.41.59.51 0 1.02-.2 1.41-.59l7.78-7.78 2.81-2.81c.8-.78.8-2.07 0-2.86zM5.41 20L4 18.59l7.72-7.72 1.47 1.35L5.41 20z\"/>\n",
              "  </svg>\n",
              "      </button>\n",
              "      \n",
              "  <style>\n",
              "    .colab-df-container {\n",
              "      display:flex;\n",
              "      flex-wrap:wrap;\n",
              "      gap: 12px;\n",
              "    }\n",
              "\n",
              "    .colab-df-convert {\n",
              "      background-color: #E8F0FE;\n",
              "      border: none;\n",
              "      border-radius: 50%;\n",
              "      cursor: pointer;\n",
              "      display: none;\n",
              "      fill: #1967D2;\n",
              "      height: 32px;\n",
              "      padding: 0 0 0 0;\n",
              "      width: 32px;\n",
              "    }\n",
              "\n",
              "    .colab-df-convert:hover {\n",
              "      background-color: #E2EBFA;\n",
              "      box-shadow: 0px 1px 2px rgba(60, 64, 67, 0.3), 0px 1px 3px 1px rgba(60, 64, 67, 0.15);\n",
              "      fill: #174EA6;\n",
              "    }\n",
              "\n",
              "    [theme=dark] .colab-df-convert {\n",
              "      background-color: #3B4455;\n",
              "      fill: #D2E3FC;\n",
              "    }\n",
              "\n",
              "    [theme=dark] .colab-df-convert:hover {\n",
              "      background-color: #434B5C;\n",
              "      box-shadow: 0px 1px 3px 1px rgba(0, 0, 0, 0.15);\n",
              "      filter: drop-shadow(0px 1px 2px rgba(0, 0, 0, 0.3));\n",
              "      fill: #FFFFFF;\n",
              "    }\n",
              "  </style>\n",
              "\n",
              "      <script>\n",
              "        const buttonEl =\n",
              "          document.querySelector('#df-b5a02a67-9e2d-4139-a250-728dccaeaa7f button.colab-df-convert');\n",
              "        buttonEl.style.display =\n",
              "          google.colab.kernel.accessAllowed ? 'block' : 'none';\n",
              "\n",
              "        async function convertToInteractive(key) {\n",
              "          const element = document.querySelector('#df-b5a02a67-9e2d-4139-a250-728dccaeaa7f');\n",
              "          const dataTable =\n",
              "            await google.colab.kernel.invokeFunction('convertToInteractive',\n",
              "                                                     [key], {});\n",
              "          if (!dataTable) return;\n",
              "\n",
              "          const docLinkHtml = 'Like what you see? Visit the ' +\n",
              "            '<a target=\"_blank\" href=https://colab.research.google.com/notebooks/data_table.ipynb>data table notebook</a>'\n",
              "            + ' to learn more about interactive tables.';\n",
              "          element.innerHTML = '';\n",
              "          dataTable['output_type'] = 'display_data';\n",
              "          await google.colab.output.renderOutput(dataTable, element);\n",
              "          const docLink = document.createElement('div');\n",
              "          docLink.innerHTML = docLinkHtml;\n",
              "          element.appendChild(docLink);\n",
              "        }\n",
              "      </script>\n",
              "    </div>\n",
              "  </div>\n",
              "  "
            ]
          },
          "metadata": {},
          "execution_count": 30
        }
      ],
      "source": [
        "breast_cancer = load_breast_cancer()\n",
        "breast_cancer_df = pd.DataFrame(data=breast_cancer.data, columns=breast_cancer.feature_names)\n",
        "breast_cancer_df['label'] = breast_cancer.target\n",
        "breast_cancer_df.head()"
      ]
    },
    {
      "cell_type": "markdown",
      "metadata": {
        "id": "V4CP56XU6mbq"
      },
      "source": [
        "## Step1. 데이터 탐색 및 준비"
      ]
    },
    {
      "cell_type": "markdown",
      "metadata": {
        "id": "LlGUiwGQ6mbq"
      },
      "source": [
        "### [Q1] 데이터 구조\n",
        "분석할 데이터는 몇 개의 feature, 몇 개의 데이터로 구성되어 있습니까?"
      ]
    },
    {
      "cell_type": "code",
      "execution_count": null,
      "metadata": {
        "colab": {
          "base_uri": "https://localhost:8080/"
        },
        "id": "DqnWG0p76mbq",
        "outputId": "b9d9c44c-7031-4d77-9f36-95612ebb4050"
      },
      "outputs": [
        {
          "output_type": "execute_result",
          "data": {
            "text/plain": [
              "(569, 31)"
            ]
          },
          "metadata": {},
          "execution_count": 31
        }
      ],
      "source": [
        "breast_cancer_df.shape"
      ]
    },
    {
      "cell_type": "code",
      "execution_count": null,
      "metadata": {
        "colab": {
          "base_uri": "https://localhost:8080/"
        },
        "id": "1OQmmB4P6mbr",
        "outputId": "508f7ac8-2993-4975-82f7-dc0557d589b2"
      },
      "outputs": [
        {
          "output_type": "stream",
          "name": "stdout",
          "text": [
            "<class 'pandas.core.frame.DataFrame'>\n",
            "RangeIndex: 569 entries, 0 to 568\n",
            "Data columns (total 31 columns):\n",
            " #   Column                   Non-Null Count  Dtype  \n",
            "---  ------                   --------------  -----  \n",
            " 0   mean radius              569 non-null    float64\n",
            " 1   mean texture             569 non-null    float64\n",
            " 2   mean perimeter           569 non-null    float64\n",
            " 3   mean area                569 non-null    float64\n",
            " 4   mean smoothness          569 non-null    float64\n",
            " 5   mean compactness         569 non-null    float64\n",
            " 6   mean concavity           569 non-null    float64\n",
            " 7   mean concave points      569 non-null    float64\n",
            " 8   mean symmetry            569 non-null    float64\n",
            " 9   mean fractal dimension   569 non-null    float64\n",
            " 10  radius error             569 non-null    float64\n",
            " 11  texture error            569 non-null    float64\n",
            " 12  perimeter error          569 non-null    float64\n",
            " 13  area error               569 non-null    float64\n",
            " 14  smoothness error         569 non-null    float64\n",
            " 15  compactness error        569 non-null    float64\n",
            " 16  concavity error          569 non-null    float64\n",
            " 17  concave points error     569 non-null    float64\n",
            " 18  symmetry error           569 non-null    float64\n",
            " 19  fractal dimension error  569 non-null    float64\n",
            " 20  worst radius             569 non-null    float64\n",
            " 21  worst texture            569 non-null    float64\n",
            " 22  worst perimeter          569 non-null    float64\n",
            " 23  worst area               569 non-null    float64\n",
            " 24  worst smoothness         569 non-null    float64\n",
            " 25  worst compactness        569 non-null    float64\n",
            " 26  worst concavity          569 non-null    float64\n",
            " 27  worst concave points     569 non-null    float64\n",
            " 28  worst symmetry           569 non-null    float64\n",
            " 29  worst fractal dimension  569 non-null    float64\n",
            " 30  label                    569 non-null    int64  \n",
            "dtypes: float64(30), int64(1)\n",
            "memory usage: 137.9 KB\n"
          ]
        }
      ],
      "source": [
        "# 데이터프레임의 요약 정보\n",
        "breast_cancer_df.info()"
      ]
    },
    {
      "cell_type": "markdown",
      "metadata": {
        "id": "vlypJL7M6mbr"
      },
      "source": [
        "### [Q2] 데이터 통계정보\n",
        "분석할 데이터의 통계정보를 살펴보세요"
      ]
    },
    {
      "cell_type": "code",
      "execution_count": null,
      "metadata": {
        "colab": {
          "base_uri": "https://localhost:8080/",
          "height": 428
        },
        "id": "8A0SrXlM6mbr",
        "outputId": "412be97a-47ec-4415-9d16-a61f28154acf"
      },
      "outputs": [
        {
          "output_type": "execute_result",
          "data": {
            "text/plain": [
              "       mean radius  mean texture  mean perimeter    mean area  \\\n",
              "count   569.000000    569.000000      569.000000   569.000000   \n",
              "mean     14.127292     19.289649       91.969033   654.889104   \n",
              "std       3.524049      4.301036       24.298981   351.914129   \n",
              "min       6.981000      9.710000       43.790000   143.500000   \n",
              "25%      11.700000     16.170000       75.170000   420.300000   \n",
              "50%      13.370000     18.840000       86.240000   551.100000   \n",
              "75%      15.780000     21.800000      104.100000   782.700000   \n",
              "max      28.110000     39.280000      188.500000  2501.000000   \n",
              "\n",
              "       mean smoothness  mean compactness  mean concavity  mean concave points  \\\n",
              "count       569.000000        569.000000      569.000000           569.000000   \n",
              "mean          0.096360          0.104341        0.088799             0.048919   \n",
              "std           0.014064          0.052813        0.079720             0.038803   \n",
              "min           0.052630          0.019380        0.000000             0.000000   \n",
              "25%           0.086370          0.064920        0.029560             0.020310   \n",
              "50%           0.095870          0.092630        0.061540             0.033500   \n",
              "75%           0.105300          0.130400        0.130700             0.074000   \n",
              "max           0.163400          0.345400        0.426800             0.201200   \n",
              "\n",
              "       mean symmetry  mean fractal dimension  ...  worst texture  \\\n",
              "count     569.000000              569.000000  ...     569.000000   \n",
              "mean        0.181162                0.062798  ...      25.677223   \n",
              "std         0.027414                0.007060  ...       6.146258   \n",
              "min         0.106000                0.049960  ...      12.020000   \n",
              "25%         0.161900                0.057700  ...      21.080000   \n",
              "50%         0.179200                0.061540  ...      25.410000   \n",
              "75%         0.195700                0.066120  ...      29.720000   \n",
              "max         0.304000                0.097440  ...      49.540000   \n",
              "\n",
              "       worst perimeter   worst area  worst smoothness  worst compactness  \\\n",
              "count       569.000000   569.000000        569.000000         569.000000   \n",
              "mean        107.261213   880.583128          0.132369           0.254265   \n",
              "std          33.602542   569.356993          0.022832           0.157336   \n",
              "min          50.410000   185.200000          0.071170           0.027290   \n",
              "25%          84.110000   515.300000          0.116600           0.147200   \n",
              "50%          97.660000   686.500000          0.131300           0.211900   \n",
              "75%         125.400000  1084.000000          0.146000           0.339100   \n",
              "max         251.200000  4254.000000          0.222600           1.058000   \n",
              "\n",
              "       worst concavity  worst concave points  worst symmetry  \\\n",
              "count       569.000000            569.000000      569.000000   \n",
              "mean          0.272188              0.114606        0.290076   \n",
              "std           0.208624              0.065732        0.061867   \n",
              "min           0.000000              0.000000        0.156500   \n",
              "25%           0.114500              0.064930        0.250400   \n",
              "50%           0.226700              0.099930        0.282200   \n",
              "75%           0.382900              0.161400        0.317900   \n",
              "max           1.252000              0.291000        0.663800   \n",
              "\n",
              "       worst fractal dimension       label  \n",
              "count               569.000000  569.000000  \n",
              "mean                  0.083946    0.627417  \n",
              "std                   0.018061    0.483918  \n",
              "min                   0.055040    0.000000  \n",
              "25%                   0.071460    0.000000  \n",
              "50%                   0.080040    1.000000  \n",
              "75%                   0.092080    1.000000  \n",
              "max                   0.207500    1.000000  \n",
              "\n",
              "[8 rows x 31 columns]"
            ],
            "text/html": [
              "\n",
              "  <div id=\"df-b399fae0-d704-42b2-b473-bde80956634d\">\n",
              "    <div class=\"colab-df-container\">\n",
              "      <div>\n",
              "<style scoped>\n",
              "    .dataframe tbody tr th:only-of-type {\n",
              "        vertical-align: middle;\n",
              "    }\n",
              "\n",
              "    .dataframe tbody tr th {\n",
              "        vertical-align: top;\n",
              "    }\n",
              "\n",
              "    .dataframe thead th {\n",
              "        text-align: right;\n",
              "    }\n",
              "</style>\n",
              "<table border=\"1\" class=\"dataframe\">\n",
              "  <thead>\n",
              "    <tr style=\"text-align: right;\">\n",
              "      <th></th>\n",
              "      <th>mean radius</th>\n",
              "      <th>mean texture</th>\n",
              "      <th>mean perimeter</th>\n",
              "      <th>mean area</th>\n",
              "      <th>mean smoothness</th>\n",
              "      <th>mean compactness</th>\n",
              "      <th>mean concavity</th>\n",
              "      <th>mean concave points</th>\n",
              "      <th>mean symmetry</th>\n",
              "      <th>mean fractal dimension</th>\n",
              "      <th>...</th>\n",
              "      <th>worst texture</th>\n",
              "      <th>worst perimeter</th>\n",
              "      <th>worst area</th>\n",
              "      <th>worst smoothness</th>\n",
              "      <th>worst compactness</th>\n",
              "      <th>worst concavity</th>\n",
              "      <th>worst concave points</th>\n",
              "      <th>worst symmetry</th>\n",
              "      <th>worst fractal dimension</th>\n",
              "      <th>label</th>\n",
              "    </tr>\n",
              "  </thead>\n",
              "  <tbody>\n",
              "    <tr>\n",
              "      <th>count</th>\n",
              "      <td>569.000000</td>\n",
              "      <td>569.000000</td>\n",
              "      <td>569.000000</td>\n",
              "      <td>569.000000</td>\n",
              "      <td>569.000000</td>\n",
              "      <td>569.000000</td>\n",
              "      <td>569.000000</td>\n",
              "      <td>569.000000</td>\n",
              "      <td>569.000000</td>\n",
              "      <td>569.000000</td>\n",
              "      <td>...</td>\n",
              "      <td>569.000000</td>\n",
              "      <td>569.000000</td>\n",
              "      <td>569.000000</td>\n",
              "      <td>569.000000</td>\n",
              "      <td>569.000000</td>\n",
              "      <td>569.000000</td>\n",
              "      <td>569.000000</td>\n",
              "      <td>569.000000</td>\n",
              "      <td>569.000000</td>\n",
              "      <td>569.000000</td>\n",
              "    </tr>\n",
              "    <tr>\n",
              "      <th>mean</th>\n",
              "      <td>14.127292</td>\n",
              "      <td>19.289649</td>\n",
              "      <td>91.969033</td>\n",
              "      <td>654.889104</td>\n",
              "      <td>0.096360</td>\n",
              "      <td>0.104341</td>\n",
              "      <td>0.088799</td>\n",
              "      <td>0.048919</td>\n",
              "      <td>0.181162</td>\n",
              "      <td>0.062798</td>\n",
              "      <td>...</td>\n",
              "      <td>25.677223</td>\n",
              "      <td>107.261213</td>\n",
              "      <td>880.583128</td>\n",
              "      <td>0.132369</td>\n",
              "      <td>0.254265</td>\n",
              "      <td>0.272188</td>\n",
              "      <td>0.114606</td>\n",
              "      <td>0.290076</td>\n",
              "      <td>0.083946</td>\n",
              "      <td>0.627417</td>\n",
              "    </tr>\n",
              "    <tr>\n",
              "      <th>std</th>\n",
              "      <td>3.524049</td>\n",
              "      <td>4.301036</td>\n",
              "      <td>24.298981</td>\n",
              "      <td>351.914129</td>\n",
              "      <td>0.014064</td>\n",
              "      <td>0.052813</td>\n",
              "      <td>0.079720</td>\n",
              "      <td>0.038803</td>\n",
              "      <td>0.027414</td>\n",
              "      <td>0.007060</td>\n",
              "      <td>...</td>\n",
              "      <td>6.146258</td>\n",
              "      <td>33.602542</td>\n",
              "      <td>569.356993</td>\n",
              "      <td>0.022832</td>\n",
              "      <td>0.157336</td>\n",
              "      <td>0.208624</td>\n",
              "      <td>0.065732</td>\n",
              "      <td>0.061867</td>\n",
              "      <td>0.018061</td>\n",
              "      <td>0.483918</td>\n",
              "    </tr>\n",
              "    <tr>\n",
              "      <th>min</th>\n",
              "      <td>6.981000</td>\n",
              "      <td>9.710000</td>\n",
              "      <td>43.790000</td>\n",
              "      <td>143.500000</td>\n",
              "      <td>0.052630</td>\n",
              "      <td>0.019380</td>\n",
              "      <td>0.000000</td>\n",
              "      <td>0.000000</td>\n",
              "      <td>0.106000</td>\n",
              "      <td>0.049960</td>\n",
              "      <td>...</td>\n",
              "      <td>12.020000</td>\n",
              "      <td>50.410000</td>\n",
              "      <td>185.200000</td>\n",
              "      <td>0.071170</td>\n",
              "      <td>0.027290</td>\n",
              "      <td>0.000000</td>\n",
              "      <td>0.000000</td>\n",
              "      <td>0.156500</td>\n",
              "      <td>0.055040</td>\n",
              "      <td>0.000000</td>\n",
              "    </tr>\n",
              "    <tr>\n",
              "      <th>25%</th>\n",
              "      <td>11.700000</td>\n",
              "      <td>16.170000</td>\n",
              "      <td>75.170000</td>\n",
              "      <td>420.300000</td>\n",
              "      <td>0.086370</td>\n",
              "      <td>0.064920</td>\n",
              "      <td>0.029560</td>\n",
              "      <td>0.020310</td>\n",
              "      <td>0.161900</td>\n",
              "      <td>0.057700</td>\n",
              "      <td>...</td>\n",
              "      <td>21.080000</td>\n",
              "      <td>84.110000</td>\n",
              "      <td>515.300000</td>\n",
              "      <td>0.116600</td>\n",
              "      <td>0.147200</td>\n",
              "      <td>0.114500</td>\n",
              "      <td>0.064930</td>\n",
              "      <td>0.250400</td>\n",
              "      <td>0.071460</td>\n",
              "      <td>0.000000</td>\n",
              "    </tr>\n",
              "    <tr>\n",
              "      <th>50%</th>\n",
              "      <td>13.370000</td>\n",
              "      <td>18.840000</td>\n",
              "      <td>86.240000</td>\n",
              "      <td>551.100000</td>\n",
              "      <td>0.095870</td>\n",
              "      <td>0.092630</td>\n",
              "      <td>0.061540</td>\n",
              "      <td>0.033500</td>\n",
              "      <td>0.179200</td>\n",
              "      <td>0.061540</td>\n",
              "      <td>...</td>\n",
              "      <td>25.410000</td>\n",
              "      <td>97.660000</td>\n",
              "      <td>686.500000</td>\n",
              "      <td>0.131300</td>\n",
              "      <td>0.211900</td>\n",
              "      <td>0.226700</td>\n",
              "      <td>0.099930</td>\n",
              "      <td>0.282200</td>\n",
              "      <td>0.080040</td>\n",
              "      <td>1.000000</td>\n",
              "    </tr>\n",
              "    <tr>\n",
              "      <th>75%</th>\n",
              "      <td>15.780000</td>\n",
              "      <td>21.800000</td>\n",
              "      <td>104.100000</td>\n",
              "      <td>782.700000</td>\n",
              "      <td>0.105300</td>\n",
              "      <td>0.130400</td>\n",
              "      <td>0.130700</td>\n",
              "      <td>0.074000</td>\n",
              "      <td>0.195700</td>\n",
              "      <td>0.066120</td>\n",
              "      <td>...</td>\n",
              "      <td>29.720000</td>\n",
              "      <td>125.400000</td>\n",
              "      <td>1084.000000</td>\n",
              "      <td>0.146000</td>\n",
              "      <td>0.339100</td>\n",
              "      <td>0.382900</td>\n",
              "      <td>0.161400</td>\n",
              "      <td>0.317900</td>\n",
              "      <td>0.092080</td>\n",
              "      <td>1.000000</td>\n",
              "    </tr>\n",
              "    <tr>\n",
              "      <th>max</th>\n",
              "      <td>28.110000</td>\n",
              "      <td>39.280000</td>\n",
              "      <td>188.500000</td>\n",
              "      <td>2501.000000</td>\n",
              "      <td>0.163400</td>\n",
              "      <td>0.345400</td>\n",
              "      <td>0.426800</td>\n",
              "      <td>0.201200</td>\n",
              "      <td>0.304000</td>\n",
              "      <td>0.097440</td>\n",
              "      <td>...</td>\n",
              "      <td>49.540000</td>\n",
              "      <td>251.200000</td>\n",
              "      <td>4254.000000</td>\n",
              "      <td>0.222600</td>\n",
              "      <td>1.058000</td>\n",
              "      <td>1.252000</td>\n",
              "      <td>0.291000</td>\n",
              "      <td>0.663800</td>\n",
              "      <td>0.207500</td>\n",
              "      <td>1.000000</td>\n",
              "    </tr>\n",
              "  </tbody>\n",
              "</table>\n",
              "<p>8 rows × 31 columns</p>\n",
              "</div>\n",
              "      <button class=\"colab-df-convert\" onclick=\"convertToInteractive('df-b399fae0-d704-42b2-b473-bde80956634d')\"\n",
              "              title=\"Convert this dataframe to an interactive table.\"\n",
              "              style=\"display:none;\">\n",
              "        \n",
              "  <svg xmlns=\"http://www.w3.org/2000/svg\" height=\"24px\"viewBox=\"0 0 24 24\"\n",
              "       width=\"24px\">\n",
              "    <path d=\"M0 0h24v24H0V0z\" fill=\"none\"/>\n",
              "    <path d=\"M18.56 5.44l.94 2.06.94-2.06 2.06-.94-2.06-.94-.94-2.06-.94 2.06-2.06.94zm-11 1L8.5 8.5l.94-2.06 2.06-.94-2.06-.94L8.5 2.5l-.94 2.06-2.06.94zm10 10l.94 2.06.94-2.06 2.06-.94-2.06-.94-.94-2.06-.94 2.06-2.06.94z\"/><path d=\"M17.41 7.96l-1.37-1.37c-.4-.4-.92-.59-1.43-.59-.52 0-1.04.2-1.43.59L10.3 9.45l-7.72 7.72c-.78.78-.78 2.05 0 2.83L4 21.41c.39.39.9.59 1.41.59.51 0 1.02-.2 1.41-.59l7.78-7.78 2.81-2.81c.8-.78.8-2.07 0-2.86zM5.41 20L4 18.59l7.72-7.72 1.47 1.35L5.41 20z\"/>\n",
              "  </svg>\n",
              "      </button>\n",
              "      \n",
              "  <style>\n",
              "    .colab-df-container {\n",
              "      display:flex;\n",
              "      flex-wrap:wrap;\n",
              "      gap: 12px;\n",
              "    }\n",
              "\n",
              "    .colab-df-convert {\n",
              "      background-color: #E8F0FE;\n",
              "      border: none;\n",
              "      border-radius: 50%;\n",
              "      cursor: pointer;\n",
              "      display: none;\n",
              "      fill: #1967D2;\n",
              "      height: 32px;\n",
              "      padding: 0 0 0 0;\n",
              "      width: 32px;\n",
              "    }\n",
              "\n",
              "    .colab-df-convert:hover {\n",
              "      background-color: #E2EBFA;\n",
              "      box-shadow: 0px 1px 2px rgba(60, 64, 67, 0.3), 0px 1px 3px 1px rgba(60, 64, 67, 0.15);\n",
              "      fill: #174EA6;\n",
              "    }\n",
              "\n",
              "    [theme=dark] .colab-df-convert {\n",
              "      background-color: #3B4455;\n",
              "      fill: #D2E3FC;\n",
              "    }\n",
              "\n",
              "    [theme=dark] .colab-df-convert:hover {\n",
              "      background-color: #434B5C;\n",
              "      box-shadow: 0px 1px 3px 1px rgba(0, 0, 0, 0.15);\n",
              "      filter: drop-shadow(0px 1px 2px rgba(0, 0, 0, 0.3));\n",
              "      fill: #FFFFFF;\n",
              "    }\n",
              "  </style>\n",
              "\n",
              "      <script>\n",
              "        const buttonEl =\n",
              "          document.querySelector('#df-b399fae0-d704-42b2-b473-bde80956634d button.colab-df-convert');\n",
              "        buttonEl.style.display =\n",
              "          google.colab.kernel.accessAllowed ? 'block' : 'none';\n",
              "\n",
              "        async function convertToInteractive(key) {\n",
              "          const element = document.querySelector('#df-b399fae0-d704-42b2-b473-bde80956634d');\n",
              "          const dataTable =\n",
              "            await google.colab.kernel.invokeFunction('convertToInteractive',\n",
              "                                                     [key], {});\n",
              "          if (!dataTable) return;\n",
              "\n",
              "          const docLinkHtml = 'Like what you see? Visit the ' +\n",
              "            '<a target=\"_blank\" href=https://colab.research.google.com/notebooks/data_table.ipynb>data table notebook</a>'\n",
              "            + ' to learn more about interactive tables.';\n",
              "          element.innerHTML = '';\n",
              "          dataTable['output_type'] = 'display_data';\n",
              "          await google.colab.output.renderOutput(dataTable, element);\n",
              "          const docLink = document.createElement('div');\n",
              "          docLink.innerHTML = docLinkHtml;\n",
              "          element.appendChild(docLink);\n",
              "        }\n",
              "      </script>\n",
              "    </div>\n",
              "  </div>\n",
              "  "
            ]
          },
          "metadata": {},
          "execution_count": 33
        }
      ],
      "source": [
        "# 데이터프레임의 통계 정보 \n",
        "breast_cancer_df.describe()"
      ]
    },
    {
      "cell_type": "markdown",
      "metadata": {
        "id": "0aw4zR796mbs"
      },
      "source": [
        "### [Q3] 분석 유형 확인\n",
        "분석할 타겟('label')은 몇 가지 종류로 구성되어 있습니까?"
      ]
    },
    {
      "cell_type": "code",
      "execution_count": null,
      "metadata": {
        "colab": {
          "base_uri": "https://localhost:8080/"
        },
        "id": "nde0a6Qx6mbs",
        "outputId": "d7bbefa7-afaf-4477-95f5-13511f5f1269"
      },
      "outputs": [
        {
          "output_type": "execute_result",
          "data": {
            "text/plain": [
              "array([0, 1])"
            ]
          },
          "metadata": {},
          "execution_count": 34
        }
      ],
      "source": [
        "breast_cancer_df['label'].unique()"
      ]
    },
    {
      "cell_type": "markdown",
      "metadata": {
        "id": "9RSDMHB_6mbs"
      },
      "source": [
        "### [Q4] 결측치 처리\n",
        "분석할 데이터에 결측치가 있는지 확인하고, 결측치가 있는 데이터는 삭제하세요"
      ]
    },
    {
      "cell_type": "code",
      "execution_count": null,
      "metadata": {
        "colab": {
          "base_uri": "https://localhost:8080/"
        },
        "id": "trLKLL0q6mbs",
        "outputId": "bd3ddda7-cc77-4756-975d-d379314e6406"
      },
      "outputs": [
        {
          "output_type": "execute_result",
          "data": {
            "text/plain": [
              "mean radius                0\n",
              "mean texture               0\n",
              "mean perimeter             0\n",
              "mean area                  0\n",
              "mean smoothness            0\n",
              "mean compactness           0\n",
              "mean concavity             0\n",
              "mean concave points        0\n",
              "mean symmetry              0\n",
              "mean fractal dimension     0\n",
              "radius error               0\n",
              "texture error              0\n",
              "perimeter error            0\n",
              "area error                 0\n",
              "smoothness error           0\n",
              "compactness error          0\n",
              "concavity error            0\n",
              "concave points error       0\n",
              "symmetry error             0\n",
              "fractal dimension error    0\n",
              "worst radius               0\n",
              "worst texture              0\n",
              "worst perimeter            0\n",
              "worst area                 0\n",
              "worst smoothness           0\n",
              "worst compactness          0\n",
              "worst concavity            0\n",
              "worst concave points       0\n",
              "worst symmetry             0\n",
              "worst fractal dimension    0\n",
              "label                      0\n",
              "dtype: int64"
            ]
          },
          "metadata": {},
          "execution_count": 35
        }
      ],
      "source": [
        "# 결측치 확인\n",
        "breast_cancer_df.isnull().sum()"
      ]
    },
    {
      "cell_type": "markdown",
      "metadata": {
        "id": "xCmsfQiA6mbt"
      },
      "source": [
        "### [Q5] 데이터 분할\n"
      ]
    },
    {
      "cell_type": "code",
      "execution_count": null,
      "metadata": {
        "id": "2rRV_QQ-6mbt"
      },
      "outputs": [],
      "source": [
        "# 독립변수와 종속변수 분할\n",
        "X = breast_cancer_df.iloc[:, :30]\n",
        "y = breast_cancer_df['label']"
      ]
    },
    {
      "cell_type": "markdown",
      "source": [
        "\n",
        "분석할 데이터를 train_test_split()함수를 사용하여 학습용과 테스트용으로 나누세요"
      ],
      "metadata": {
        "id": "sRjEcfG_Aql8"
      }
    },
    {
      "cell_type": "code",
      "source": [
        "from sklearn.model_selection import train_test_split\n",
        "# 학습용 데이터와 테스트용 데이터 분할\n",
        "X_train, X_test, y_train, y_test = train_test_split(X, y)\n",
        "\n",
        "print('학습용 데이터 {}개, 테스트용 데이터 {}개'.format(len(X_train), len(X_test)))"
      ],
      "metadata": {
        "colab": {
          "base_uri": "https://localhost:8080/"
        },
        "id": "1c0W0lfV_P6f",
        "outputId": "fea23e35-f377-4871-cbd3-1a12897ec69f"
      },
      "execution_count": null,
      "outputs": [
        {
          "output_type": "stream",
          "name": "stdout",
          "text": [
            "학습용 데이터 426개, 테스트용 데이터 143개\n"
          ]
        }
      ]
    },
    {
      "cell_type": "markdown",
      "metadata": {
        "id": "msZKTRGq6mbu"
      },
      "source": [
        "## Step2. 학습"
      ]
    },
    {
      "cell_type": "markdown",
      "metadata": {
        "id": "Pt1G_k6A6mbu"
      },
      "source": [
        "### DecisionTreeClassifier\n",
        "분석할 데이터를 DecisionTreeClassifier를 사용하여 학습을 수행하세요"
      ]
    },
    {
      "cell_type": "code",
      "execution_count": null,
      "metadata": {
        "colab": {
          "base_uri": "https://localhost:8080/"
        },
        "id": "9prijuz36mbu",
        "outputId": "11af7033-6fc4-4588-e5be-b252d57a8cf8"
      },
      "outputs": [
        {
          "output_type": "execute_result",
          "data": {
            "text/plain": [
              "DecisionTreeClassifier(random_state=42)"
            ]
          },
          "metadata": {},
          "execution_count": 38
        }
      ],
      "source": [
        "from sklearn.tree import DecisionTreeClassifier\n",
        "dt_model = DecisionTreeClassifier(random_state=42)\n",
        "dt_model.fit(X_train , y_train)"
      ]
    },
    {
      "cell_type": "markdown",
      "metadata": {
        "id": "BHOsIdv86mbu"
      },
      "source": [
        "### KNeighborsClassifier\n"
      ]
    },
    {
      "cell_type": "code",
      "source": [
        "from sklearn.neighbors import KNeighborsClassifier\n",
        "\n",
        "neighbor_model = KNeighborsClassifier(n_neighbors=5)\n",
        "neighbor_model.fit(X_train , y_train)"
      ],
      "metadata": {
        "colab": {
          "base_uri": "https://localhost:8080/"
        },
        "id": "-wFN3o3ZBQSj",
        "outputId": "be90d8d5-9131-4ec1-a483-f1d2926ca9ce"
      },
      "execution_count": null,
      "outputs": [
        {
          "output_type": "execute_result",
          "data": {
            "text/plain": [
              "KNeighborsClassifier()"
            ]
          },
          "metadata": {},
          "execution_count": 39
        }
      ]
    },
    {
      "cell_type": "markdown",
      "source": [
        "### SVC"
      ],
      "metadata": {
        "id": "6WVstgqEA8al"
      }
    },
    {
      "cell_type": "code",
      "source": [
        "from sklearn.svm import SVC\n",
        "svm_model = SVC()\n",
        "svm_model.fit(X_train , y_train)"
      ],
      "metadata": {
        "colab": {
          "base_uri": "https://localhost:8080/"
        },
        "id": "YIJykdfoBp2-",
        "outputId": "29c3f70f-2d61-4bc9-876b-f0e35fd9f321"
      },
      "execution_count": null,
      "outputs": [
        {
          "output_type": "execute_result",
          "data": {
            "text/plain": [
              "SVC()"
            ]
          },
          "metadata": {},
          "execution_count": 40
        }
      ]
    },
    {
      "cell_type": "markdown",
      "source": [
        "\n",
        "### RandomForestClassifier"
      ],
      "metadata": {
        "id": "i517rZXrBkDq"
      }
    },
    {
      "cell_type": "code",
      "source": [
        "from sklearn.ensemble import RandomForestClassifier\n",
        "forest_model = RandomForestClassifier(n_estimators=300, random_state=42)\n",
        "forest_model.fit(X_train , y_train)"
      ],
      "metadata": {
        "colab": {
          "base_uri": "https://localhost:8080/"
        },
        "id": "U_FgC67zBq9-",
        "outputId": "bba7b25b-57d5-4b55-b329-0d91a22a2cf5"
      },
      "execution_count": null,
      "outputs": [
        {
          "output_type": "execute_result",
          "data": {
            "text/plain": [
              "RandomForestClassifier(n_estimators=300, random_state=42)"
            ]
          },
          "metadata": {},
          "execution_count": 41
        }
      ]
    },
    {
      "cell_type": "markdown",
      "source": [
        "\n",
        "### LogisticRegression"
      ],
      "metadata": {
        "id": "UHq17KvvBk1G"
      }
    },
    {
      "cell_type": "code",
      "source": [
        "from sklearn.linear_model import LogisticRegression\n",
        "logistic_model = LogisticRegression(random_state=42)\n",
        "logistic_model.fit(X_train , y_train)"
      ],
      "metadata": {
        "colab": {
          "base_uri": "https://localhost:8080/"
        },
        "id": "h2hXUq_FBsCL",
        "outputId": "0d8a0d2d-ec37-414a-add0-9cfe072366dd"
      },
      "execution_count": null,
      "outputs": [
        {
          "output_type": "stream",
          "name": "stderr",
          "text": [
            "/usr/local/lib/python3.8/dist-packages/sklearn/linear_model/_logistic.py:814: ConvergenceWarning: lbfgs failed to converge (status=1):\n",
            "STOP: TOTAL NO. of ITERATIONS REACHED LIMIT.\n",
            "\n",
            "Increase the number of iterations (max_iter) or scale the data as shown in:\n",
            "    https://scikit-learn.org/stable/modules/preprocessing.html\n",
            "Please also refer to the documentation for alternative solver options:\n",
            "    https://scikit-learn.org/stable/modules/linear_model.html#logistic-regression\n",
            "  n_iter_i = _check_optimize_result(\n"
          ]
        },
        {
          "output_type": "execute_result",
          "data": {
            "text/plain": [
              "LogisticRegression(random_state=42)"
            ]
          },
          "metadata": {},
          "execution_count": 42
        }
      ]
    },
    {
      "cell_type": "markdown",
      "source": [
        "\n",
        "### GradientBoostingClassifier"
      ],
      "metadata": {
        "id": "8sbZmIHpBlt_"
      }
    },
    {
      "cell_type": "code",
      "source": [
        "from sklearn.ensemble import GradientBoostingClassifier\n",
        "gbm_model = GradientBoostingClassifier(random_state=42)\n",
        "gbm_model.fit(X_train , y_train)"
      ],
      "metadata": {
        "colab": {
          "base_uri": "https://localhost:8080/"
        },
        "id": "BYIZPUPWBtpi",
        "outputId": "0c7fc23c-5813-4841-a514-f4e936d370ed"
      },
      "execution_count": null,
      "outputs": [
        {
          "output_type": "execute_result",
          "data": {
            "text/plain": [
              "GradientBoostingClassifier(random_state=42)"
            ]
          },
          "metadata": {},
          "execution_count": 43
        }
      ]
    },
    {
      "cell_type": "markdown",
      "source": [
        "\n",
        "### XGBClassifier"
      ],
      "metadata": {
        "id": "-_A047IyBm-A"
      }
    },
    {
      "cell_type": "code",
      "source": [
        "from xgboost import XGBClassifier, plot_importance\n",
        "import matplotlib.pyplot as plt\n",
        "\n",
        "xgb_model = XGBClassifier(n_estimators=300, learning_rate=0.1, max_depth=3, random_state=42)\n",
        "xgb_model.fit(X_train , y_train)"
      ],
      "metadata": {
        "colab": {
          "base_uri": "https://localhost:8080/"
        },
        "id": "8sdvGYkaBu8g",
        "outputId": "9181a77a-ed1d-46fd-8d4d-8962df49fc30"
      },
      "execution_count": null,
      "outputs": [
        {
          "output_type": "execute_result",
          "data": {
            "text/plain": [
              "XGBClassifier(n_estimators=300, random_state=42)"
            ]
          },
          "metadata": {},
          "execution_count": 44
        }
      ]
    },
    {
      "cell_type": "code",
      "execution_count": null,
      "metadata": {
        "colab": {
          "base_uri": "https://localhost:8080/",
          "height": 748
        },
        "id": "0DQey9l16mbv",
        "outputId": "83c6fb40-3a08-46a5-afae-75d99f57e635"
      },
      "outputs": [
        {
          "output_type": "execute_result",
          "data": {
            "text/plain": [
              "<matplotlib.axes._subplots.AxesSubplot at 0x7f452fb605e0>"
            ]
          },
          "metadata": {},
          "execution_count": 45
        },
        {
          "output_type": "display_data",
          "data": {
            "text/plain": [
              "<Figure size 720x864 with 1 Axes>"
            ],
            "image/png": "[encoded data removed]"
          },
          "metadata": {
            "needs_background": "light"
          }
        }
      ],
      "source": [
        "fig, ax = plt.subplots(figsize=(10, 12))\n",
        "plot_importance(xgb_model, ax=ax)"
      ]
    },
    {
      "cell_type": "markdown",
      "source": [
        "\n",
        "### LGBMClassifier"
      ],
      "metadata": {
        "id": "hQna453wBn6g"
      }
    },
    {
      "cell_type": "code",
      "source": [
        "from lightgbm import LGBMClassifier, plot_importance\n",
        "from lightgbm import plot_importance\n",
        "\n",
        "lgb_model = LGBMClassifier(n_estimators=300, random_state=42)\n",
        "lgb_model.fit(X_train , y_train)\n",
        "\n",
        "# plot_importance()를 이용하여 feature 중요도 시각화\n",
        "fig, ax = plt.subplots(figsize=(10, 12))\n",
        "plot_importance(lgb_model, ax=ax)"
      ],
      "metadata": {
        "colab": {
          "base_uri": "https://localhost:8080/",
          "height": 748
        },
        "id": "P7jfJVjGBxFc",
        "outputId": "e77c9521-37d8-4972-e8e0-4aba4f9f9fb8"
      },
      "execution_count": null,
      "outputs": [
        {
          "output_type": "execute_result",
          "data": {
            "text/plain": [
              "<matplotlib.axes._subplots.AxesSubplot at 0x7f452f942700>"
            ]
          },
          "metadata": {},
          "execution_count": 55
        },
        {
          "output_type": "display_data",
          "data": {
            "text/plain": [
              "<Figure size 720x864 with 1 Axes>"
            ],
            "image/png": "[encoded data removed]"
          },
          "metadata": {
            "needs_background": "light"
          }
        }
      ]
    },
    {
      "cell_type": "markdown",
      "metadata": {
        "id": "eiaB222-6mbw"
      },
      "source": [
        "### 평가지표\n",
        "각 모델의  혼동행렬, 정확도, 정밀도, 재현율, F1 score, AUC를 구하세요\n"
      ]
    },
    {
      "cell_type": "code",
      "execution_count": null,
      "metadata": {
        "id": "Xd87kx506mbw"
      },
      "outputs": [],
      "source": [
        "from sklearn.metrics import confusion_matrix, accuracy_score\n",
        "from sklearn.metrics import precision_score, recall_score\n",
        "from sklearn.metrics import f1_score, roc_auc_score\n",
        "\n",
        "def get_clf_eval(y_test, pred=None):\n",
        "    confusion = confusion_matrix(y_test, pred)\n",
        "    accuracy = accuracy_score(y_test , pred)\n",
        "    precision = precision_score(y_test , pred)\n",
        "    recall = recall_score(y_test , pred)\n",
        "    f1 = f1_score(y_test,pred)    \n",
        "    print('정확도: {0:.4f}, 정밀도: {1:.4f}, 재현율: {2:.4f}, F1: {3:.4f}'.format(accuracy, precision, recall, f1))\n",
        "    print('혼동행렬')\n",
        "    print(confusion)"
      ]
    },
    {
      "cell_type": "code",
      "execution_count": null,
      "metadata": {
        "colab": {
          "base_uri": "https://localhost:8080/"
        },
        "id": "vF39WPGn6mbw",
        "outputId": "d57b7e10-43ae-4e7b-b419-25402ef23632"
      },
      "outputs": [
        {
          "output_type": "stream",
          "name": "stdout",
          "text": [
            "\n",
            "DecisionTreeClassifier 성능지표:\n",
            "정확도: 0.9091, 정밀도: 0.9529, 재현율: 0.9000, F1: 0.9257\n",
            "혼동행렬\n",
            "[[49  4]\n",
            " [ 9 81]]\n",
            "\n",
            "KNeighborsClassifier 성능지표:\n",
            "정확도: 0.9161, 정밀도: 0.9432, 재현율: 0.9222, F1: 0.9326\n",
            "혼동행렬\n",
            "[[48  5]\n",
            " [ 7 83]]\n",
            "\n",
            "SVC 성능지표:\n",
            "정확도: 0.9021, 정밀도: 0.9130, 재현율: 0.9333, F1: 0.9231\n",
            "혼동행렬\n",
            "[[45  8]\n",
            " [ 6 84]]\n",
            "\n",
            "RandomForestClassifier 성능지표:\n",
            "정확도: 0.9371, 정밀도: 0.9655, 재현율: 0.9333, F1: 0.9492\n",
            "혼동행렬\n",
            "[[50  3]\n",
            " [ 6 84]]\n",
            "\n",
            "LogisticRegression 성능지표:\n",
            "정확도: 0.9510, 정밀도: 0.9462, 재현율: 0.9778, F1: 0.9617\n",
            "혼동행렬\n",
            "[[48  5]\n",
            " [ 2 88]]\n",
            "\n",
            "GradientBoostingClassifier 성능지표:\n",
            "정확도: 0.9371, 정밀도: 0.9655, 재현율: 0.9333, F1: 0.9492\n",
            "혼동행렬\n",
            "[[50  3]\n",
            " [ 6 84]]\n",
            "\n",
            "XGBClassifier 성능지표:\n",
            "정확도: 0.9580, 정밀도: 0.9667, 재현율: 0.9667, F1: 0.9667\n",
            "혼동행렬\n",
            "[[50  3]\n",
            " [ 3 87]]\n",
            "\n",
            "LGBMClassifier 성능지표:\n",
            "정확도: 0.9371, 정밀도: 0.9551, 재현율: 0.9444, F1: 0.9497\n",
            "혼동행렬\n",
            "[[49  4]\n",
            " [ 5 85]]\n"
          ]
        }
      ],
      "source": [
        "model_list = [dt_model, neighbor_model, svm_model, forest_model, logistic_model, gbm_model, xgb_model, lgb_model]\n",
        "\n",
        "for model in model_list:\n",
        "    pred = model.predict(X_test)\n",
        "    accuracy = accuracy_score(y_test, pred)\n",
        "    model_name = model.__class__.__name__\n",
        "    print('\\n{} 성능지표:'.format(model_name)) \n",
        "    get_clf_eval(y_test, pred)"
      ]
    },
    {
      "cell_type": "markdown",
      "metadata": {
        "id": "vHyx6L0Y6mbw"
      },
      "source": [
        "## Step3. 성능 개선"
      ]
    },
    {
      "cell_type": "markdown",
      "metadata": {
        "id": "ZtPw1Mcf6mbx"
      },
      "source": [
        "### Early stopping - XGBoost\n",
        "\n",
        "학습 조기 종료 방법을 사용하여 XGBClassifier의 성능을 개선하세요\n",
        " * (힌트) fit함수의 early_stopping_rounds 파라미터를 셋팅\n",
        " * fit함수의 verbose=True로 설정하여 학습 상태를 확인"
      ]
    },
    {
      "cell_type": "code",
      "execution_count": null,
      "metadata": {
        "colab": {
          "base_uri": "https://localhost:8080/"
        },
        "id": "kvAyGta16mbx",
        "outputId": "e4c7f5d7-54a2-4064-c314-99beec4d3ddb"
      },
      "outputs": [
        {
          "output_type": "stream",
          "name": "stdout",
          "text": [
            "[0]\tvalidation_0-error:0.06993\n",
            "Will train until validation_0-error hasn't improved in 100 rounds.\n",
            "[1]\tvalidation_0-error:0.06993\n",
            "[2]\tvalidation_0-error:0.06993\n",
            "[3]\tvalidation_0-error:0.06993\n",
            "[4]\tvalidation_0-error:0.06993\n",
            "[5]\tvalidation_0-error:0.083916\n",
            "[6]\tvalidation_0-error:0.06993\n",
            "[7]\tvalidation_0-error:0.06993\n",
            "[8]\tvalidation_0-error:0.062937\n",
            "[9]\tvalidation_0-error:0.062937\n",
            "[10]\tvalidation_0-error:0.062937\n",
            "[11]\tvalidation_0-error:0.062937\n",
            "[12]\tvalidation_0-error:0.062937\n",
            "[13]\tvalidation_0-error:0.062937\n",
            "[14]\tvalidation_0-error:0.06993\n",
            "[15]\tvalidation_0-error:0.062937\n",
            "[16]\tvalidation_0-error:0.06993\n",
            "[17]\tvalidation_0-error:0.06993\n",
            "[18]\tvalidation_0-error:0.06993\n",
            "[19]\tvalidation_0-error:0.06993\n",
            "[20]\tvalidation_0-error:0.06993\n",
            "[21]\tvalidation_0-error:0.06993\n",
            "[22]\tvalidation_0-error:0.06993\n",
            "[23]\tvalidation_0-error:0.06993\n",
            "[24]\tvalidation_0-error:0.06993\n",
            "[25]\tvalidation_0-error:0.06993\n",
            "[26]\tvalidation_0-error:0.06993\n",
            "[27]\tvalidation_0-error:0.06993\n",
            "[28]\tvalidation_0-error:0.06993\n",
            "[29]\tvalidation_0-error:0.06993\n",
            "[30]\tvalidation_0-error:0.06993\n",
            "[31]\tvalidation_0-error:0.06993\n",
            "[32]\tvalidation_0-error:0.06993\n",
            "[33]\tvalidation_0-error:0.06993\n",
            "[34]\tvalidation_0-error:0.06993\n",
            "[35]\tvalidation_0-error:0.06993\n",
            "[36]\tvalidation_0-error:0.06993\n",
            "[37]\tvalidation_0-error:0.06993\n",
            "[38]\tvalidation_0-error:0.06993\n",
            "[39]\tvalidation_0-error:0.06993\n",
            "[40]\tvalidation_0-error:0.06993\n",
            "[41]\tvalidation_0-error:0.062937\n",
            "[42]\tvalidation_0-error:0.062937\n",
            "[43]\tvalidation_0-error:0.062937\n",
            "[44]\tvalidation_0-error:0.062937\n",
            "[45]\tvalidation_0-error:0.062937\n",
            "[46]\tvalidation_0-error:0.055944\n",
            "[47]\tvalidation_0-error:0.062937\n",
            "[48]\tvalidation_0-error:0.062937\n",
            "[49]\tvalidation_0-error:0.055944\n",
            "[50]\tvalidation_0-error:0.055944\n",
            "[51]\tvalidation_0-error:0.062937\n",
            "[52]\tvalidation_0-error:0.062937\n",
            "[53]\tvalidation_0-error:0.062937\n",
            "[54]\tvalidation_0-error:0.062937\n",
            "[55]\tvalidation_0-error:0.055944\n",
            "[56]\tvalidation_0-error:0.055944\n",
            "[57]\tvalidation_0-error:0.055944\n",
            "[58]\tvalidation_0-error:0.055944\n",
            "[59]\tvalidation_0-error:0.055944\n",
            "[60]\tvalidation_0-error:0.055944\n",
            "[61]\tvalidation_0-error:0.055944\n",
            "[62]\tvalidation_0-error:0.062937\n",
            "[63]\tvalidation_0-error:0.062937\n",
            "[64]\tvalidation_0-error:0.062937\n",
            "[65]\tvalidation_0-error:0.055944\n",
            "[66]\tvalidation_0-error:0.055944\n",
            "[67]\tvalidation_0-error:0.055944\n",
            "[68]\tvalidation_0-error:0.055944\n",
            "[69]\tvalidation_0-error:0.048951\n",
            "[70]\tvalidation_0-error:0.055944\n",
            "[71]\tvalidation_0-error:0.055944\n",
            "[72]\tvalidation_0-error:0.055944\n",
            "[73]\tvalidation_0-error:0.048951\n",
            "[74]\tvalidation_0-error:0.048951\n",
            "[75]\tvalidation_0-error:0.055944\n",
            "[76]\tvalidation_0-error:0.055944\n",
            "[77]\tvalidation_0-error:0.055944\n",
            "[78]\tvalidation_0-error:0.048951\n",
            "[79]\tvalidation_0-error:0.055944\n",
            "[80]\tvalidation_0-error:0.055944\n",
            "[81]\tvalidation_0-error:0.055944\n",
            "[82]\tvalidation_0-error:0.055944\n",
            "[83]\tvalidation_0-error:0.055944\n",
            "[84]\tvalidation_0-error:0.055944\n",
            "[85]\tvalidation_0-error:0.055944\n",
            "[86]\tvalidation_0-error:0.055944\n",
            "[87]\tvalidation_0-error:0.055944\n",
            "[88]\tvalidation_0-error:0.055944\n",
            "[89]\tvalidation_0-error:0.055944\n",
            "[90]\tvalidation_0-error:0.055944\n",
            "[91]\tvalidation_0-error:0.055944\n",
            "[92]\tvalidation_0-error:0.055944\n",
            "[93]\tvalidation_0-error:0.055944\n",
            "[94]\tvalidation_0-error:0.055944\n",
            "[95]\tvalidation_0-error:0.055944\n",
            "[96]\tvalidation_0-error:0.055944\n",
            "[97]\tvalidation_0-error:0.055944\n",
            "[98]\tvalidation_0-error:0.055944\n",
            "[99]\tvalidation_0-error:0.055944\n",
            "[100]\tvalidation_0-error:0.062937\n",
            "[101]\tvalidation_0-error:0.062937\n",
            "[102]\tvalidation_0-error:0.062937\n",
            "[103]\tvalidation_0-error:0.062937\n",
            "[104]\tvalidation_0-error:0.062937\n",
            "[105]\tvalidation_0-error:0.062937\n",
            "[106]\tvalidation_0-error:0.055944\n",
            "[107]\tvalidation_0-error:0.062937\n",
            "[108]\tvalidation_0-error:0.062937\n",
            "[109]\tvalidation_0-error:0.062937\n",
            "[110]\tvalidation_0-error:0.062937\n",
            "[111]\tvalidation_0-error:0.062937\n",
            "[112]\tvalidation_0-error:0.062937\n",
            "[113]\tvalidation_0-error:0.062937\n",
            "[114]\tvalidation_0-error:0.062937\n",
            "[115]\tvalidation_0-error:0.062937\n",
            "[116]\tvalidation_0-error:0.062937\n",
            "[117]\tvalidation_0-error:0.062937\n",
            "[118]\tvalidation_0-error:0.062937\n",
            "[119]\tvalidation_0-error:0.062937\n",
            "[120]\tvalidation_0-error:0.062937\n",
            "[121]\tvalidation_0-error:0.062937\n",
            "[122]\tvalidation_0-error:0.062937\n",
            "[123]\tvalidation_0-error:0.062937\n",
            "[124]\tvalidation_0-error:0.062937\n",
            "[125]\tvalidation_0-error:0.062937\n",
            "[126]\tvalidation_0-error:0.062937\n",
            "[127]\tvalidation_0-error:0.062937\n",
            "[128]\tvalidation_0-error:0.062937\n",
            "[129]\tvalidation_0-error:0.062937\n",
            "[130]\tvalidation_0-error:0.062937\n",
            "[131]\tvalidation_0-error:0.062937\n",
            "[132]\tvalidation_0-error:0.062937\n",
            "[133]\tvalidation_0-error:0.062937\n",
            "[134]\tvalidation_0-error:0.062937\n",
            "[135]\tvalidation_0-error:0.062937\n",
            "[136]\tvalidation_0-error:0.062937\n",
            "[137]\tvalidation_0-error:0.062937\n",
            "[138]\tvalidation_0-error:0.062937\n",
            "[139]\tvalidation_0-error:0.062937\n",
            "[140]\tvalidation_0-error:0.062937\n",
            "[141]\tvalidation_0-error:0.062937\n",
            "[142]\tvalidation_0-error:0.062937\n",
            "[143]\tvalidation_0-error:0.062937\n",
            "[144]\tvalidation_0-error:0.062937\n",
            "[145]\tvalidation_0-error:0.062937\n",
            "[146]\tvalidation_0-error:0.062937\n",
            "[147]\tvalidation_0-error:0.055944\n",
            "[148]\tvalidation_0-error:0.062937\n",
            "[149]\tvalidation_0-error:0.055944\n",
            "[150]\tvalidation_0-error:0.055944\n",
            "[151]\tvalidation_0-error:0.055944\n",
            "[152]\tvalidation_0-error:0.055944\n",
            "[153]\tvalidation_0-error:0.055944\n",
            "[154]\tvalidation_0-error:0.055944\n",
            "[155]\tvalidation_0-error:0.055944\n",
            "[156]\tvalidation_0-error:0.055944\n",
            "[157]\tvalidation_0-error:0.055944\n",
            "[158]\tvalidation_0-error:0.055944\n",
            "[159]\tvalidation_0-error:0.055944\n",
            "[160]\tvalidation_0-error:0.055944\n",
            "[161]\tvalidation_0-error:0.055944\n",
            "[162]\tvalidation_0-error:0.055944\n",
            "[163]\tvalidation_0-error:0.055944\n",
            "[164]\tvalidation_0-error:0.055944\n",
            "[165]\tvalidation_0-error:0.055944\n",
            "[166]\tvalidation_0-error:0.048951\n",
            "[167]\tvalidation_0-error:0.048951\n",
            "[168]\tvalidation_0-error:0.048951\n",
            "[169]\tvalidation_0-error:0.048951\n",
            "Stopping. Best iteration:\n",
            "[69]\tvalidation_0-error:0.048951\n",
            "\n",
            "XGBoost EarlyStopping 정확도: 0.9510\n"
          ]
        }
      ],
      "source": [
        "from xgboost import XGBClassifier\n",
        "\n",
        "xgb_model2 = XGBClassifier(n_estimators=300, learning_rate=0.1, max_depth=3, random_state=42)\n",
        "evals = [(X_test, y_test)]\n",
        "xgb_model2.fit(X_train, y_train, early_stopping_rounds=100, eval_set=evals, verbose=True)\n",
        "xgb_pred = xgb_model2.predict(X_test)\n",
        "xgb_accuracy = accuracy_score(y_test, xgb_pred)\n",
        "print('XGBoost EarlyStopping 정확도: {0:.4f}'.format(xgb_accuracy))"
      ]
    },
    {
      "cell_type": "markdown",
      "metadata": {
        "id": "gxcXpKyt6mbx"
      },
      "source": [
        "### Early stopping - LGBM\n",
        "학습 조기 종료 방법을 사용하여 LGBMClassifier 성능을 개선하세요\n",
        " * (힌트) fit함수의 early_stopping_rounds 파라미터를 셋팅\n",
        " * fit함수의 verbose=True로 설정하여 학습 상태를 확인해봅니다 "
      ]
    },
    {
      "cell_type": "code",
      "execution_count": null,
      "metadata": {
        "colab": {
          "base_uri": "https://localhost:8080/"
        },
        "id": "ifCiAzQf6mbx",
        "outputId": "ef671454-333f-4172-c2d9-6f2df2eb7d0b"
      },
      "outputs": [
        {
          "output_type": "stream",
          "name": "stdout",
          "text": [
            "[1]\tvalid_0's binary_logloss: 0.584641\n",
            "Training until validation scores don't improve for 100 rounds.\n",
            "[2]\tvalid_0's binary_logloss: 0.528837\n",
            "[3]\tvalid_0's binary_logloss: 0.48255\n",
            "[4]\tvalid_0's binary_logloss: 0.443359\n",
            "[5]\tvalid_0's binary_logloss: 0.413893\n",
            "[6]\tvalid_0's binary_logloss: 0.387334\n",
            "[7]\tvalid_0's binary_logloss: 0.363698\n",
            "[8]\tvalid_0's binary_logloss: 0.342907\n",
            "[9]\tvalid_0's binary_logloss: 0.324746\n",
            "[10]\tvalid_0's binary_logloss: 0.304735\n",
            "[11]\tvalid_0's binary_logloss: 0.287894\n",
            "[12]\tvalid_0's binary_logloss: 0.270232\n",
            "[13]\tvalid_0's binary_logloss: 0.259647\n",
            "[14]\tvalid_0's binary_logloss: 0.246131\n",
            "[15]\tvalid_0's binary_logloss: 0.233731\n",
            "[16]\tvalid_0's binary_logloss: 0.227165\n",
            "[17]\tvalid_0's binary_logloss: 0.216021\n",
            "[18]\tvalid_0's binary_logloss: 0.211719\n",
            "[19]\tvalid_0's binary_logloss: 0.206208\n",
            "[20]\tvalid_0's binary_logloss: 0.198462\n",
            "[21]\tvalid_0's binary_logloss: 0.192271\n",
            "[22]\tvalid_0's binary_logloss: 0.184905\n",
            "[23]\tvalid_0's binary_logloss: 0.17902\n",
            "[24]\tvalid_0's binary_logloss: 0.175061\n",
            "[25]\tvalid_0's binary_logloss: 0.17043\n",
            "[26]\tvalid_0's binary_logloss: 0.1678\n",
            "[27]\tvalid_0's binary_logloss: 0.168145\n",
            "[28]\tvalid_0's binary_logloss: 0.166\n",
            "[29]\tvalid_0's binary_logloss: 0.160552\n",
            "[30]\tvalid_0's binary_logloss: 0.156688\n",
            "[31]\tvalid_0's binary_logloss: 0.154021\n",
            "[32]\tvalid_0's binary_logloss: 0.151986\n",
            "[33]\tvalid_0's binary_logloss: 0.1509\n",
            "[34]\tvalid_0's binary_logloss: 0.147705\n",
            "[35]\tvalid_0's binary_logloss: 0.146986\n",
            "[36]\tvalid_0's binary_logloss: 0.145269\n",
            "[37]\tvalid_0's binary_logloss: 0.143854\n",
            "[38]\tvalid_0's binary_logloss: 0.145775\n",
            "[39]\tvalid_0's binary_logloss: 0.145319\n",
            "[40]\tvalid_0's binary_logloss: 0.146652\n",
            "[41]\tvalid_0's binary_logloss: 0.146232\n",
            "[42]\tvalid_0's binary_logloss: 0.146435\n",
            "[43]\tvalid_0's binary_logloss: 0.147343\n",
            "[44]\tvalid_0's binary_logloss: 0.144354\n",
            "[45]\tvalid_0's binary_logloss: 0.145353\n",
            "[46]\tvalid_0's binary_logloss: 0.143034\n",
            "[47]\tvalid_0's binary_logloss: 0.140377\n",
            "[48]\tvalid_0's binary_logloss: 0.1427\n",
            "[49]\tvalid_0's binary_logloss: 0.144099\n",
            "[50]\tvalid_0's binary_logloss: 0.14315\n",
            "[51]\tvalid_0's binary_logloss: 0.144738\n",
            "[52]\tvalid_0's binary_logloss: 0.145394\n",
            "[53]\tvalid_0's binary_logloss: 0.143822\n",
            "[54]\tvalid_0's binary_logloss: 0.144336\n",
            "[55]\tvalid_0's binary_logloss: 0.144258\n",
            "[56]\tvalid_0's binary_logloss: 0.144558\n",
            "[57]\tvalid_0's binary_logloss: 0.141585\n",
            "[58]\tvalid_0's binary_logloss: 0.140879\n",
            "[59]\tvalid_0's binary_logloss: 0.140327\n",
            "[60]\tvalid_0's binary_logloss: 0.138453\n",
            "[61]\tvalid_0's binary_logloss: 0.141103\n",
            "[62]\tvalid_0's binary_logloss: 0.138447\n",
            "[63]\tvalid_0's binary_logloss: 0.142406\n",
            "[64]\tvalid_0's binary_logloss: 0.143576\n",
            "[65]\tvalid_0's binary_logloss: 0.145998\n",
            "[66]\tvalid_0's binary_logloss: 0.147532\n",
            "[67]\tvalid_0's binary_logloss: 0.151338\n",
            "[68]\tvalid_0's binary_logloss: 0.15176\n",
            "[69]\tvalid_0's binary_logloss: 0.149139\n",
            "[70]\tvalid_0's binary_logloss: 0.150567\n",
            "[71]\tvalid_0's binary_logloss: 0.15182\n",
            "[72]\tvalid_0's binary_logloss: 0.154765\n",
            "[73]\tvalid_0's binary_logloss: 0.151424\n",
            "[74]\tvalid_0's binary_logloss: 0.152688\n",
            "[75]\tvalid_0's binary_logloss: 0.152996\n",
            "[76]\tvalid_0's binary_logloss: 0.157292\n",
            "[77]\tvalid_0's binary_logloss: 0.156403\n",
            "[78]\tvalid_0's binary_logloss: 0.160302\n",
            "[79]\tvalid_0's binary_logloss: 0.162331\n",
            "[80]\tvalid_0's binary_logloss: 0.162703\n",
            "[81]\tvalid_0's binary_logloss: 0.162941\n",
            "[82]\tvalid_0's binary_logloss: 0.164052\n",
            "[83]\tvalid_0's binary_logloss: 0.167299\n",
            "[84]\tvalid_0's binary_logloss: 0.168201\n",
            "[85]\tvalid_0's binary_logloss: 0.16983\n",
            "[86]\tvalid_0's binary_logloss: 0.172311\n",
            "[87]\tvalid_0's binary_logloss: 0.174991\n",
            "[88]\tvalid_0's binary_logloss: 0.17739\n",
            "[89]\tvalid_0's binary_logloss: 0.182093\n",
            "[90]\tvalid_0's binary_logloss: 0.186651\n",
            "[91]\tvalid_0's binary_logloss: 0.187351\n",
            "[92]\tvalid_0's binary_logloss: 0.188374\n",
            "[93]\tvalid_0's binary_logloss: 0.191561\n",
            "[94]\tvalid_0's binary_logloss: 0.193054\n",
            "[95]\tvalid_0's binary_logloss: 0.195651\n",
            "[96]\tvalid_0's binary_logloss: 0.197073\n",
            "[97]\tvalid_0's binary_logloss: 0.200366\n",
            "[98]\tvalid_0's binary_logloss: 0.201364\n",
            "[99]\tvalid_0's binary_logloss: 0.200777\n",
            "[100]\tvalid_0's binary_logloss: 0.198729\n",
            "[101]\tvalid_0's binary_logloss: 0.199321\n",
            "[102]\tvalid_0's binary_logloss: 0.204187\n",
            "[103]\tvalid_0's binary_logloss: 0.207532\n",
            "[104]\tvalid_0's binary_logloss: 0.206704\n",
            "[105]\tvalid_0's binary_logloss: 0.207052\n",
            "[106]\tvalid_0's binary_logloss: 0.205195\n",
            "[107]\tvalid_0's binary_logloss: 0.207079\n",
            "[108]\tvalid_0's binary_logloss: 0.211928\n",
            "[109]\tvalid_0's binary_logloss: 0.210206\n",
            "[110]\tvalid_0's binary_logloss: 0.209372\n",
            "[111]\tvalid_0's binary_logloss: 0.212724\n",
            "[112]\tvalid_0's binary_logloss: 0.21153\n",
            "[113]\tvalid_0's binary_logloss: 0.210233\n",
            "[114]\tvalid_0's binary_logloss: 0.210287\n",
            "[115]\tvalid_0's binary_logloss: 0.209027\n",
            "[116]\tvalid_0's binary_logloss: 0.213776\n",
            "[117]\tvalid_0's binary_logloss: 0.215165\n",
            "[118]\tvalid_0's binary_logloss: 0.215367\n",
            "[119]\tvalid_0's binary_logloss: 0.214988\n",
            "[120]\tvalid_0's binary_logloss: 0.213468\n",
            "[121]\tvalid_0's binary_logloss: 0.213476\n",
            "[122]\tvalid_0's binary_logloss: 0.211712\n",
            "[123]\tvalid_0's binary_logloss: 0.212135\n",
            "[124]\tvalid_0's binary_logloss: 0.210478\n",
            "[125]\tvalid_0's binary_logloss: 0.212272\n",
            "[126]\tvalid_0's binary_logloss: 0.215229\n",
            "[127]\tvalid_0's binary_logloss: 0.216225\n",
            "[128]\tvalid_0's binary_logloss: 0.216789\n",
            "[129]\tvalid_0's binary_logloss: 0.21669\n",
            "[130]\tvalid_0's binary_logloss: 0.216725\n",
            "[131]\tvalid_0's binary_logloss: 0.215787\n",
            "[132]\tvalid_0's binary_logloss: 0.216525\n",
            "[133]\tvalid_0's binary_logloss: 0.216331\n",
            "[134]\tvalid_0's binary_logloss: 0.221216\n",
            "[135]\tvalid_0's binary_logloss: 0.221306\n",
            "[136]\tvalid_0's binary_logloss: 0.220202\n",
            "[137]\tvalid_0's binary_logloss: 0.221969\n",
            "[138]\tvalid_0's binary_logloss: 0.223501\n",
            "[139]\tvalid_0's binary_logloss: 0.221578\n",
            "[140]\tvalid_0's binary_logloss: 0.222045\n",
            "[141]\tvalid_0's binary_logloss: 0.22499\n",
            "[142]\tvalid_0's binary_logloss: 0.229871\n",
            "[143]\tvalid_0's binary_logloss: 0.231556\n",
            "[144]\tvalid_0's binary_logloss: 0.230836\n",
            "[145]\tvalid_0's binary_logloss: 0.231357\n",
            "[146]\tvalid_0's binary_logloss: 0.234052\n",
            "[147]\tvalid_0's binary_logloss: 0.234721\n",
            "[148]\tvalid_0's binary_logloss: 0.236231\n",
            "[149]\tvalid_0's binary_logloss: 0.235446\n",
            "[150]\tvalid_0's binary_logloss: 0.238269\n",
            "[151]\tvalid_0's binary_logloss: 0.239061\n",
            "[152]\tvalid_0's binary_logloss: 0.241287\n",
            "[153]\tvalid_0's binary_logloss: 0.241094\n",
            "[154]\tvalid_0's binary_logloss: 0.240294\n",
            "[155]\tvalid_0's binary_logloss: 0.243912\n",
            "[156]\tvalid_0's binary_logloss: 0.244649\n",
            "[157]\tvalid_0's binary_logloss: 0.243318\n",
            "[158]\tvalid_0's binary_logloss: 0.245381\n",
            "[159]\tvalid_0's binary_logloss: 0.246142\n",
            "[160]\tvalid_0's binary_logloss: 0.245539\n",
            "[161]\tvalid_0's binary_logloss: 0.245824\n",
            "[162]\tvalid_0's binary_logloss: 0.250453\n",
            "Early stopping, best iteration is:\n",
            "[62]\tvalid_0's binary_logloss: 0.138447\n",
            "LGBMClassifier EarlyStopping 정확도: 0.9441\n"
          ]
        }
      ],
      "source": [
        "from lightgbm import LGBMClassifier\n",
        "\n",
        "lgb_model2 = LGBMClassifier(n_estimators=300, random_state=42)\n",
        "evals = [(X_test, y_test)]\n",
        "lgb_model2.fit(X_train, y_train, early_stopping_rounds=100, eval_set=evals, verbose=True)\n",
        "lgb_pred = lgb_model2.predict(X_test)\n",
        "lgb_accuracy = accuracy_score(y_test, lgb_pred)\n",
        "print('LGBMClassifier EarlyStopping 정확도: {0:.4f}'.format(lgb_accuracy))"
      ]
    },
    {
      "cell_type": "markdown",
      "metadata": {
        "id": "U8V6ZZdy6mbx"
      },
      "source": [
        "### VotingClassifier\n",
        "앙상블 모델을 생성/학습/평가하세요.\n",
        " * 개별 모델 : LogisticRegression, KNeighborsClassifier 조합\n",
        " * voting='soft'"
      ]
    },
    {
      "cell_type": "code",
      "execution_count": null,
      "metadata": {
        "colab": {
          "base_uri": "https://localhost:8080/"
        },
        "id": "Ea4rk1Fu6mby",
        "outputId": "e06b60aa-1c7a-4a16-cbba-b690f985d7ff"
      },
      "outputs": [
        {
          "output_type": "stream",
          "name": "stdout",
          "text": [
            "VotingClassifier 정확도: 0.9301\n"
          ]
        },
        {
          "output_type": "stream",
          "name": "stderr",
          "text": [
            "/usr/local/lib/python3.8/dist-packages/sklearn/linear_model/_logistic.py:814: ConvergenceWarning: lbfgs failed to converge (status=1):\n",
            "STOP: TOTAL NO. of ITERATIONS REACHED LIMIT.\n",
            "\n",
            "Increase the number of iterations (max_iter) or scale the data as shown in:\n",
            "    https://scikit-learn.org/stable/modules/preprocessing.html\n",
            "Please also refer to the documentation for alternative solver options:\n",
            "    https://scikit-learn.org/stable/modules/linear_model.html#logistic-regression\n",
            "  n_iter_i = _check_optimize_result(\n"
          ]
        }
      ],
      "source": [
        "from sklearn.ensemble import VotingClassifier\n",
        "\n",
        "voting_model = VotingClassifier(estimators=[('LR',logistic_model),\\\n",
        "                                            ('KNN',neighbor_model)] , voting='soft' )\n",
        "voting_model.fit(X_train , y_train)\n",
        "pred = voting_model.predict(X_test)\n",
        "accuracy = accuracy_score(y_test , pred)\n",
        "print('VotingClassifier 정확도: {0:.4f}'.format(accuracy))"
      ]
    },
    {
      "cell_type": "markdown",
      "metadata": {
        "id": "atLpho5i6mby"
      },
      "source": [
        "### GridSearchCV - RandomForestClassifier\n",
        "\n",
        "RandomForestClassifier의 하이퍼파라미터를 튜닝하세요\n",
        " *     'n_estimators':[100],\n",
        " *   'max_depth' : [6, 8, 10, 12], \n",
        " *   'min_samples_leaf' : [8, 12, 18 ],\n",
        " *   'min_samples_split' : [8, 16, 20]"
      ]
    },
    {
      "cell_type": "code",
      "execution_count": null,
      "metadata": {
        "colab": {
          "base_uri": "https://localhost:8080/"
        },
        "id": "C1ivjIIP6mby",
        "outputId": "b2363d42-6010-48f4-aa7e-bcc8bf45c8fa"
      },
      "outputs": [
        {
          "output_type": "stream",
          "name": "stdout",
          "text": [
            "최적 하이퍼 파라미터:\n",
            " {'max_depth': 6, 'min_samples_leaf': 8, 'min_samples_split': 8, 'n_estimators': 100}\n",
            "최고 예측 정확도: 0.9413\n"
          ]
        }
      ],
      "source": [
        "from sklearn.model_selection import GridSearchCV\n",
        "\n",
        "params = {\n",
        "    'n_estimators':[100],\n",
        "    'max_depth' : [6, 8, 10, 12], \n",
        "    'min_samples_leaf' : [8, 12, 18],\n",
        "    'min_samples_split' : [8, 16, 20]\n",
        "}\n",
        "# RandomForestClassifier 객체 생성 후 GridSearchCV 수행\n",
        "rf_clf = RandomForestClassifier(random_state=0, n_jobs=-1)\n",
        "grid_cv = GridSearchCV(rf_clf , param_grid=params , cv=2, n_jobs=-1 )\n",
        "grid_cv.fit(X_train , y_train)\n",
        "\n",
        "print('최적 하이퍼 파라미터:\\n', grid_cv.best_params_)\n",
        "print('최고 예측 정확도: {0:.4f}'.format(grid_cv.best_score_))"
      ]
    },
    {
      "cell_type": "markdown",
      "metadata": {
        "id": "TdaAMt226mby"
      },
      "source": [
        "### GridSearchCV - GBM\n",
        "\n",
        "GBM의 하이퍼파라미터를 튜닝하세요\n",
        "\n",
        "    * 'n_estimators':[100, 500],\n",
        "    * 'learning_rate' : [ 0.05, 0.1]"
      ]
    },
    {
      "cell_type": "code",
      "execution_count": null,
      "metadata": {
        "colab": {
          "base_uri": "https://localhost:8080/"
        },
        "id": "kkruxHKR6mbz",
        "outputId": "e4a4a425-ffcb-4b43-ab22-6a8ce17d2e7f"
      },
      "outputs": [
        {
          "output_type": "stream",
          "name": "stdout",
          "text": [
            "Fitting 2 folds for each of 4 candidates, totalling 8 fits\n",
            "최적 하이퍼 파라미터:\n",
            " {'learning_rate': 0.05, 'n_estimators': 500}\n",
            "최고 예측 정확도: 0.9531\n"
          ]
        }
      ],
      "source": [
        "from sklearn.model_selection import GridSearchCV\n",
        "\n",
        "params = {\n",
        "    'n_estimators':[100, 500],\n",
        "    'learning_rate' : [ 0.05, 0.1]\n",
        "}\n",
        "\n",
        "gbm_model = GradientBoostingClassifier(random_state=10)\n",
        "\n",
        "grid_cv = GridSearchCV(gbm_model , param_grid=params , cv=2 ,verbose=1)\n",
        "grid_cv.fit(X_train , y_train)\n",
        "print('최적 하이퍼 파라미터:\\n', grid_cv.best_params_)\n",
        "print('최고 예측 정확도: {0:.4f}'.format(grid_cv.best_score_))"
      ]
    }
  ],
  "metadata": {
    "kernelspec": {
      "display_name": "Python 3",
      "language": "python",
      "name": "python3"
    },
    "language_info": {
      "codemirror_mode": {
        "name": "ipython",
        "version": 3
      },
      "file_extension": ".py",
      "mimetype": "text/x-python",
      "name": "python",
      "nbconvert_exporter": "python",
      "pygments_lexer": "ipython3",
      "version": "3.8.5"
    },
    "toc": {
      "base_numbering": 1,
      "nav_menu": {},
      "number_sections": false,
      "sideBar": true,
      "skip_h1_title": false,
      "title_cell": "Table of Contents",
      "title_sidebar": "Contents",
      "toc_cell": false,
      "toc_position": {
        "height": "calc(100% - 180px)",
        "left": "10px",
        "top": "150px",
        "width": "639px"
      },
      "toc_section_display": true,
      "toc_window_display": false
    },
    "colab": {
      "provenance": [],
      "toc_visible": true,
      "include_colab_link": true
    }
  },
  "nbformat": 4,
  "nbformat_minor": 0
}