{
  "nbformat": 4,
  "nbformat_minor": 0,
  "metadata": {
    "colab": {
      "private_outputs": true,
      "provenance": [],
      "include_colab_link": true
    },
    "kernelspec": {
      "name": "python3",
      "display_name": "Python 3"
    },
    "language_info": {
      "name": "python"
    }
  },
  "cells": [
    {
      "cell_type": "markdown",
      "metadata": {
        "id": "view-in-github",
        "colab_type": "text"
      },
      "source": [
        "<a href=\"https://colab.research.google.com/github/angelgold1004/stock_market_analysis/blob/main/plotly_exercise.ipynb\" target=\"_parent\"><img src=\"https://colab.research.google.com/assets/colab-badge.svg\" alt=\"Open In Colab\"/></a>"
      ]
    },
    {
      "cell_type": "code",
      "execution_count": null,
      "metadata": {
        "collapsed": true,
        "id": "7T_zDmZDFmjr"
      },
      "outputs": [],
      "source": [
        "!pip install pandas-datareader\n",
        "!pip install yfinance"
      ]
    },
    {
      "cell_type": "code",
      "source": [
        "from pandas_datareader import data\n",
        "import yfinance as yfin\n",
        "\n",
        "yfin.pdr_override()\n",
        "\n",
        "df = data.get_data_yahoo('005930.KS', start = '2022-01-01')"
      ],
      "metadata": {
        "id": "n3EfufLXFpGm"
      },
      "execution_count": null,
      "outputs": []
    },
    {
      "cell_type": "code",
      "source": [
        "df.head()"
      ],
      "metadata": {
        "id": "dsGePD7BNhwW"
      },
      "execution_count": null,
      "outputs": []
    },
    {
      "cell_type": "code",
      "source": [
        "import plotly.express as px\n",
        "import plotly.graph_objs as go\n",
        "\n",
        "chart_add=[\n",
        "    go.Line(\n",
        "        x=df.index, y=df['Close']),\n",
        "    go.Bar(\n",
        "        x=df.index, y=df['Volume'])]\n",
        "layout = go.Layout(\n",
        "    barmode='stack',\n",
        "    title='Samsung Stock Chart')\n",
        "fig = go.Figure(chart_add, layout=layout)\n",
        "fig.show()"
      ],
      "metadata": {
        "id": "NJ-fMmVVFq4I"
      },
      "execution_count": null,
      "outputs": []
    },
    {
      "cell_type": "code",
      "source": [
        "fig=px.scatter(df,x=df.index, y=\"Close\", size=\"Close\", hover_data=['Close']) #'],hover_data=df['Close'])\n",
        "fig.show(0)"
      ],
      "metadata": {
        "id": "Qr2CGdAkF5oM"
      },
      "execution_count": null,
      "outputs": []
    },
    {
      "cell_type": "code",
      "source": [
        "fig = px.line(df, x=df.index, y=['Close','Open'])\n",
        "fig.show()"
      ],
      "metadata": {
        "id": "s2o1fMASM8c9"
      },
      "execution_count": null,
      "outputs": []
    },
    {
      "cell_type": "code",
      "source": [
        "fig=px.bar(df, x=df.index, y='Close', title='Samsung Stock Graph')\n",
        "fig.show()"
      ],
      "metadata": {
        "id": "l-00GESgL1IG"
      },
      "execution_count": null,
      "outputs": []
    }
  ]
}