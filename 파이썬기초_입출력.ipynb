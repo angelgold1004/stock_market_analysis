{
  "cells": [
    {
      "cell_type": "markdown",
      "metadata": {
        "id": "view-in-github",
        "colab_type": "text"
      },
      "source": [
        "<a href=\"https://colab.research.google.com/github/angelgold1004/stock_market_analysis/blob/main/%ED%8C%8C%EC%9D%B4%EC%8D%AC%EA%B8%B0%EC%B4%88_%EC%9E%85%EC%B6%9C%EB%A0%A5.ipynb\" target=\"_parent\"><img src=\"https://colab.research.google.com/assets/colab-badge.svg\" alt=\"Open In Colab\"/></a>"
      ]
    },
    {
      "cell_type": "markdown",
      "source": [
        "**시스템 입출력**\n",
        "- 화면에 데이터를 출력하거나 사용자로부터 직접 데이터를 입력 받을 수 있음\n",
        "- 입력: input()\n",
        "- 출력: print()\n",
        "- 포맷 스트링: 값을 출력하는 패턴을 지정 (예: 소수점 2자리까지만 출력)\n",
        "\n",
        "**파일 입출력**\n",
        "- 파일에 쓰여있는 데이터를 읽어들이거나 파일에 데이터를 쓸 수 있음\n",
        "- open(), read(), write(), close()\n",
        "- with()문\n",
        "    - 파일 읽기 쓰기 작업이 완료된 후 close()를 호출하지 않아도 자동으로 리소스 반환\n"
      ],
      "metadata": {
        "id": "ttHYJ4TC79mz"
      }
    },
    {
      "cell_type": "markdown",
      "metadata": {
        "id": "2RBn9lG374xt"
      },
      "source": [
        "# 2.6.1 시스템 입력"
      ]
    },
    {
      "cell_type": "code",
      "execution_count": null,
      "metadata": {
        "colab": {
          "base_uri": "https://localhost:8080/",
          "height": 54
        },
        "id": "Q_MQ6jZa74xa",
        "outputId": "b5df684d-a7d5-4233-d400-78a5be3ec272"
      },
      "outputs": [
        {
          "name": "stdout",
          "output_type": "stream",
          "text": [
            "홍길동\n"
          ]
        },
        {
          "output_type": "execute_result",
          "data": {
            "text/plain": [
              "'홍길동'"
            ],
            "application/vnd.google.colaboratory.intrinsic+json": {
              "type": "string"
            }
          },
          "metadata": {},
          "execution_count": 1
        }
      ],
      "source": [
        "input()"
      ]
    },
    {
      "cell_type": "markdown",
      "metadata": {
        "id": "9915N9Gl74x3"
      },
      "source": [
        "<div class=\"alert alert-success\">\n",
        "[문제]\n",
        "사용자로부터 이름을 입력 받고, 이름과 함께 인사말을 출력하세요.  \n",
        "    \n",
        "    \n",
        "예:\n",
        "- 이름을 입력하세요: 홍길동  \n",
        "- 홍길동님, 안녕하세요  \n",
        "\n",
        "</div>"
      ]
    },
    {
      "cell_type": "code",
      "execution_count": null,
      "metadata": {
        "colab": {
          "base_uri": "https://localhost:8080/"
        },
        "id": "ZaswIfNf74x8",
        "outputId": "ae981e94-e764-49a9-ac23-2a550d71c11f"
      },
      "outputs": [
        {
          "output_type": "stream",
          "name": "stdout",
          "text": [
            "이름을 입력하세요:홍길동\n",
            "홍길동님, 안녕하세요\n"
          ]
        }
      ],
      "source": [
        "name = input(\"이름을 입력하세요:\")\n",
        "print(name + \"님, 안녕하세요\")"
      ]
    },
    {
      "cell_type": "markdown",
      "metadata": {
        "id": "FOdT76Tz74x-"
      },
      "source": [
        "<div class=\"alert alert-success\">\n",
        "[문제]\n",
        "사용자로부터 키를 입력 받아서 권장 체중을 출력하는 프로그램을 작성하세요.\n",
        "    \n",
        "권장 체중은 다음과 같이 계산합니다.\n",
        "\n",
        "    권장 체중 = (키 – 100) * 0.9\n",
        "\n",
        "\n",
        "</div>"
      ]
    },
    {
      "cell_type": "code",
      "execution_count": null,
      "metadata": {
        "colab": {
          "base_uri": "https://localhost:8080/",
          "height": 245
        },
        "id": "TNcJJiV274yB",
        "outputId": "52adba4c-e29f-4466-c39b-a066d3604c87"
      },
      "outputs": [
        {
          "name": "stdout",
          "output_type": "stream",
          "text": [
            "키를 입력하세요150\n"
          ]
        },
        {
          "output_type": "error",
          "ename": "TypeError",
          "evalue": "ignored",
          "traceback": [
            "\u001b[0;31m---------------------------------------------------------------------------\u001b[0m",
            "\u001b[0;31mTypeError\u001b[0m                                 Traceback (most recent call last)",
            "\u001b[0;32m<ipython-input-3-bd7cef80d355>\u001b[0m in \u001b[0;36m<module>\u001b[0;34m\u001b[0m\n\u001b[1;32m      1\u001b[0m \u001b[0mheight\u001b[0m \u001b[0;34m=\u001b[0m \u001b[0minput\u001b[0m\u001b[0;34m(\u001b[0m\u001b[0;34m\"키를 입력하세요\"\u001b[0m\u001b[0;34m)\u001b[0m\u001b[0;34m\u001b[0m\u001b[0;34m\u001b[0m\u001b[0m\n\u001b[0;32m----> 2\u001b[0;31m \u001b[0mweight\u001b[0m \u001b[0;34m=\u001b[0m \u001b[0;34m(\u001b[0m\u001b[0mheight\u001b[0m \u001b[0;34m-\u001b[0m \u001b[0;36m100\u001b[0m\u001b[0;34m)\u001b[0m \u001b[0;34m*\u001b[0m \u001b[0;36m0.9\u001b[0m\u001b[0;34m\u001b[0m\u001b[0;34m\u001b[0m\u001b[0m\n\u001b[0m\u001b[1;32m      3\u001b[0m \u001b[0;34m\u001b[0m\u001b[0m\n\u001b[1;32m      4\u001b[0m \u001b[0mprint\u001b[0m\u001b[0;34m(\u001b[0m\u001b[0;34m\"권장 체중은 \"\u001b[0m \u001b[0;34m+\u001b[0m \u001b[0mweight\u001b[0m \u001b[0;34m+\u001b[0m \u001b[0;34m\"kg 입니다\"\u001b[0m\u001b[0;34m)\u001b[0m\u001b[0;34m\u001b[0m\u001b[0;34m\u001b[0m\u001b[0m\n",
            "\u001b[0;31mTypeError\u001b[0m: unsupported operand type(s) for -: 'str' and 'int'"
          ]
        }
      ],
      "source": [
        "height = input(\"키를 입력하세요\")\n",
        "weight = (height - 100) * 0.9\n",
        "\n",
        "print(\"권장 체중은 \" + weight + \"kg 입니다\")"
      ]
    },
    {
      "cell_type": "code",
      "execution_count": null,
      "metadata": {
        "colab": {
          "base_uri": "https://localhost:8080/",
          "height": 227
        },
        "id": "LglpH0lT74yD",
        "outputId": "11609dc6-a9ed-4ed1-cfb7-3ba0b537ca1a"
      },
      "outputs": [
        {
          "name": "stdout",
          "output_type": "stream",
          "text": [
            "키를 입력하세요150\n"
          ]
        },
        {
          "output_type": "error",
          "ename": "TypeError",
          "evalue": "ignored",
          "traceback": [
            "\u001b[0;31m---------------------------------------------------------------------------\u001b[0m",
            "\u001b[0;31mTypeError\u001b[0m                                 Traceback (most recent call last)",
            "\u001b[0;32m<ipython-input-4-df36009ecc42>\u001b[0m in \u001b[0;36m<module>\u001b[0;34m\u001b[0m\n\u001b[1;32m      2\u001b[0m \u001b[0mweight\u001b[0m \u001b[0;34m=\u001b[0m \u001b[0;34m(\u001b[0m\u001b[0mfloat\u001b[0m\u001b[0;34m(\u001b[0m\u001b[0mheight\u001b[0m\u001b[0;34m)\u001b[0m \u001b[0;34m-\u001b[0m \u001b[0;36m100\u001b[0m\u001b[0;34m)\u001b[0m \u001b[0;34m*\u001b[0m \u001b[0;36m0.9\u001b[0m\u001b[0;34m\u001b[0m\u001b[0;34m\u001b[0m\u001b[0m\n\u001b[1;32m      3\u001b[0m \u001b[0;34m\u001b[0m\u001b[0m\n\u001b[0;32m----> 4\u001b[0;31m \u001b[0mprint\u001b[0m\u001b[0;34m(\u001b[0m\u001b[0;34m\"권장 체중은 \"\u001b[0m \u001b[0;34m+\u001b[0m \u001b[0mweight\u001b[0m \u001b[0;34m+\u001b[0m \u001b[0;34m\"kg 입니다.\"\u001b[0m\u001b[0;34m)\u001b[0m\u001b[0;34m\u001b[0m\u001b[0;34m\u001b[0m\u001b[0m\n\u001b[0m",
            "\u001b[0;31mTypeError\u001b[0m: can only concatenate str (not \"float\") to str"
          ]
        }
      ],
      "source": [
        "height = input(\"키를 입력하세요\")\n",
        "weight = (float(height) - 100) * 0.9\n",
        "\n",
        "print(\"권장 체중은 \" + weight + \"kg 입니다.\")"
      ]
    },
    {
      "cell_type": "code",
      "execution_count": null,
      "metadata": {
        "colab": {
          "base_uri": "https://localhost:8080/"
        },
        "id": "d4D47DFG74yH",
        "outputId": "36d6b6a3-b425-4919-97a7-a03ff80eaba3"
      },
      "outputs": [
        {
          "output_type": "stream",
          "name": "stdout",
          "text": [
            "키를 입력하세요150\n",
            "권장 체중은 45.0kg 입니다.\n"
          ]
        }
      ],
      "source": [
        "height = input(\"키를 입력하세요\")\n",
        "weight = (float(height) - 100) * 0.9\n",
        "\n",
        "print(\"권장 체중은 \" + str(weight) + \"kg 입니다.\")"
      ]
    },
    {
      "cell_type": "markdown",
      "metadata": {
        "id": "15sXlgZg74yK"
      },
      "source": [
        "# 2.6.2 시스템 출력"
      ]
    },
    {
      "cell_type": "code",
      "execution_count": null,
      "metadata": {
        "colab": {
          "base_uri": "https://localhost:8080/"
        },
        "id": "aHKlkr4874yM",
        "outputId": "1e35d0a4-e027-419a-c6e0-2d380d79cbbe"
      },
      "outputs": [
        {
          "output_type": "stream",
          "name": "stdout",
          "text": [
            "apple peach mango\n"
          ]
        }
      ],
      "source": [
        "print(\"apple\", \"peach\", \"mango\")"
      ]
    },
    {
      "cell_type": "code",
      "execution_count": null,
      "metadata": {
        "colab": {
          "base_uri": "https://localhost:8080/"
        },
        "id": "axzqEWvh74yQ",
        "outputId": "7d0686f2-2cd4-4eff-ac71-e2ad57aeab8f"
      },
      "outputs": [
        {
          "output_type": "stream",
          "name": "stdout",
          "text": [
            "apple,peach,mango\n"
          ]
        }
      ],
      "source": [
        "print(\"apple\", \"peach\", \"mango\", sep =\",\")"
      ]
    },
    {
      "cell_type": "code",
      "execution_count": null,
      "metadata": {
        "colab": {
          "base_uri": "https://localhost:8080/"
        },
        "id": "g5Qvy3M374yS",
        "outputId": "638de32d-d15c-4274-d5cc-ff6ee9a391a9"
      },
      "outputs": [
        {
          "output_type": "stream",
          "name": "stdout",
          "text": [
            "원숭이 엉덩이는 빨개 \n",
            "빨가면 사과\n"
          ]
        }
      ],
      "source": [
        "print(\"원숭이 엉덩이는 빨개 \")\n",
        "print(\"빨가면 사과\")"
      ]
    },
    {
      "cell_type": "code",
      "execution_count": null,
      "metadata": {
        "colab": {
          "base_uri": "https://localhost:8080/"
        },
        "id": "2kj1iSCI74yU",
        "outputId": "e56c81f7-090a-4501-d645-b88dc77e4f52"
      },
      "outputs": [
        {
          "output_type": "stream",
          "name": "stdout",
          "text": [
            "원숭이 엉덩이는 빨개 빨가면 사과\n"
          ]
        }
      ],
      "source": [
        "print(\"원숭이 엉덩이는 빨개 \", end=\"\")\n",
        "print(\"빨가면 사과\")"
      ]
    },
    {
      "cell_type": "code",
      "execution_count": null,
      "metadata": {
        "colab": {
          "base_uri": "https://localhost:8080/"
        },
        "id": "4LOdG_XH74yW",
        "outputId": "610a9ccf-35e3-460e-c0e6-6a69b5e126a3"
      },
      "outputs": [
        {
          "output_type": "stream",
          "name": "stdout",
          "text": [
            "나는 빵을 먹고싶다\n"
          ]
        }
      ],
      "source": [
        "print(\"나는\" + \" 빵을 \" + \"먹고싶다\")"
      ]
    },
    {
      "cell_type": "code",
      "execution_count": null,
      "metadata": {
        "colab": {
          "base_uri": "https://localhost:8080/"
        },
        "id": "sHlPdbbM74yY",
        "outputId": "ec9487ce-a581-4c93-aa0c-22d355e62723"
      },
      "outputs": [
        {
          "output_type": "stream",
          "name": "stdout",
          "text": [
            "산토끼 토끼야\n",
            "어디를 가느냐\n",
            "깡총깡총 뛰어서\n",
            "어디를 가느냐\n"
          ]
        }
      ],
      "source": [
        "print(\"산토끼 토끼야\\n어디를 가느냐\\n깡총깡총 뛰어서\\n어디를 가느냐\")"
      ]
    },
    {
      "cell_type": "markdown",
      "source": [
        "## 포맷스트링"
      ],
      "metadata": {
        "id": "J2eCUKxn8asD"
      }
    },
    {
      "cell_type": "markdown",
      "source": [
        "![image-20230119204649758.png](data:image/png;base64,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)"
      ],
      "metadata": {
        "id": "LuOE6Shn8W_S"
      }
    },
    {
      "cell_type": "code",
      "execution_count": null,
      "metadata": {
        "colab": {
          "base_uri": "https://localhost:8080/"
        },
        "id": "QnZGXjPx74yZ",
        "outputId": "685fecc5-8ea2-445c-9823-13623724cf84"
      },
      "outputs": [
        {
          "output_type": "stream",
          "name": "stdout",
          "text": [
            "나는 치킨을 먹고 싶다\n"
          ]
        }
      ],
      "source": [
        "food = \"치킨\"\n",
        "text = \"나는 {}을 먹고 싶다\"\n",
        "print(text.format(food))"
      ]
    },
    {
      "cell_type": "code",
      "execution_count": null,
      "metadata": {
        "colab": {
          "base_uri": "https://localhost:8080/"
        },
        "id": "N02BIY_474yb",
        "outputId": "7891ac3e-0ce2-44cd-f3d7-b498e2496910"
      },
      "outputs": [
        {
          "output_type": "stream",
          "name": "stdout",
          "text": [
            "나는 치킨을 먹고 싶다\n"
          ]
        }
      ],
      "source": [
        "print(\"나는 {}을 먹고 싶다\".format(\"치킨\"))"
      ]
    },
    {
      "cell_type": "code",
      "execution_count": null,
      "metadata": {
        "colab": {
          "base_uri": "https://localhost:8080/"
        },
        "id": "y3_8e82I74yc",
        "outputId": "4a06cb48-ca70-4e33-f5b0-08a1a7b1c920"
      },
      "outputs": [
        {
          "output_type": "stream",
          "name": "stdout",
          "text": [
            "나는 피자, 치킨을 먹고 싶다\n"
          ]
        }
      ],
      "source": [
        "food1 = \"피자\"\n",
        "food2 = \"치킨\"\n",
        "text = \"나는 {}, {}을 먹고 싶다\"\n",
        "print(text.format(\"피자\", \"치킨\"))"
      ]
    },
    {
      "cell_type": "code",
      "execution_count": null,
      "metadata": {
        "colab": {
          "base_uri": "https://localhost:8080/"
        },
        "id": "rhn8WPAS74yf",
        "outputId": "ab164e29-d352-4be2-a518-9a9b68f68052"
      },
      "outputs": [
        {
          "output_type": "stream",
          "name": "stdout",
          "text": [
            "나는 피자, 치킨을 먹고 싶다. 우리집엔 치킨이 배달되지 않아 슬프다.\n"
          ]
        }
      ],
      "source": [
        "print(\"나는 {0}, {1}을 먹고 싶다. 우리집엔 {1}이 배달되지 않아 슬프다.\".format(\"피자\", \"치킨\"))"
      ]
    },
    {
      "cell_type": "code",
      "execution_count": null,
      "metadata": {
        "colab": {
          "base_uri": "https://localhost:8080/"
        },
        "id": "PeQ5ruHj74yh",
        "outputId": "4c3d5954-0068-4035-fa35-322342094bd1"
      },
      "outputs": [
        {
          "output_type": "stream",
          "name": "stdout",
          "text": [
            "홍길동님, 반갑습니다. 적립금은 500원 입니다..\n"
          ]
        }
      ],
      "source": [
        "text = \"{name}님, 반갑습니다. 적립금은 {money}원 입니다..\"\n",
        "print(text.format(name = \"홍길동\", money = 500))"
      ]
    },
    {
      "cell_type": "markdown",
      "metadata": {
        "id": "M8I8VHzM74yj"
      },
      "source": [
        "--------\n",
        "<div class=\"alert alert-warning\">\n",
        "[Tip]문자열에 %s 를 작성하여, 치환할 문자를 지정\n",
        "</div>"
      ]
    },
    {
      "cell_type": "code",
      "execution_count": null,
      "metadata": {
        "colab": {
          "base_uri": "https://localhost:8080/"
        },
        "id": "k-ZmO2fA74yk",
        "outputId": "9d7f4f5a-f10a-4162-d25e-60ed5d0fe443"
      },
      "outputs": [
        {
          "output_type": "stream",
          "name": "stdout",
          "text": [
            "나는 치킨을 먹고 싶다.\n"
          ]
        }
      ],
      "source": [
        "food = \"치킨\"\n",
        "print(\"나는 %s을 먹고 싶다.\" %food)"
      ]
    },
    {
      "cell_type": "markdown",
      "metadata": {
        "id": "KuJcO2or74yl"
      },
      "source": [
        "----------"
      ]
    },
    {
      "cell_type": "code",
      "execution_count": null,
      "metadata": {
        "colab": {
          "base_uri": "https://localhost:8080/"
        },
        "id": "5i0UgfYS74yn",
        "outputId": "1317bf27-65fb-4832-fe73-d33ec43e4799"
      },
      "outputs": [
        {
          "output_type": "stream",
          "name": "stdout",
          "text": [
            "95.12% 확신합니다.\n"
          ]
        }
      ],
      "source": [
        "print(\"{:.2f}% 확신합니다.\".format(95.1234567))"
      ]
    },
    {
      "cell_type": "code",
      "execution_count": null,
      "metadata": {
        "colab": {
          "base_uri": "https://localhost:8080/"
        },
        "id": "LRFF_VJN74yo",
        "outputId": "8b84e4f3-11c0-4d91-937c-71772e584949"
      },
      "outputs": [
        {
          "output_type": "stream",
          "name": "stdout",
          "text": [
            "한 달 휴대폰 요금은 100,000원 입니다.\n"
          ]
        }
      ],
      "source": [
        "print(\"한 달 휴대폰 요금은 {:,}원 입니다.\".format(100000))"
      ]
    },
    {
      "cell_type": "markdown",
      "metadata": {
        "id": "49RppnPj74yp"
      },
      "source": [
        "# 2.6.3 파일 입출력"
      ]
    },
    {
      "cell_type": "code",
      "execution_count": null,
      "metadata": {
        "id": "h18Q5HMh74yq"
      },
      "outputs": [],
      "source": [
        "f = open(\"abc.txt\", \"w\") # 쓰기모드로 파일 열기\n",
        "f.write(\"A B C D E F G \")\n",
        "f.close()"
      ]
    },
    {
      "cell_type": "code",
      "execution_count": null,
      "metadata": {
        "colab": {
          "base_uri": "https://localhost:8080/"
        },
        "id": "DUFcxJ6Z74yr",
        "outputId": "f4cf1bde-1d8b-4094-f0e0-dc0eddeb3815"
      },
      "outputs": [
        {
          "output_type": "stream",
          "name": "stdout",
          "text": [
            "A B C D E F G \n"
          ]
        }
      ],
      "source": [
        "f = open(\"abc.txt\", \"r\")\n",
        "print(f.read())\n",
        "f.close()"
      ]
    },
    {
      "cell_type": "code",
      "execution_count": null,
      "metadata": {
        "id": "MoE6sm2h74ys"
      },
      "outputs": [],
      "source": [
        "f = open(\"abc.txt\", \"w\")\n",
        "f.write(\"a b c d e f g \")\n",
        "f.close()"
      ]
    },
    {
      "cell_type": "code",
      "execution_count": null,
      "metadata": {
        "colab": {
          "base_uri": "https://localhost:8080/"
        },
        "id": "qnWTyCrp74yt",
        "outputId": "95f6278e-6155-4828-e969-277860e65019"
      },
      "outputs": [
        {
          "output_type": "stream",
          "name": "stdout",
          "text": [
            "a b c d e f g \n"
          ]
        }
      ],
      "source": [
        "f = open(\"abc.txt\", \"r\")\n",
        "print(f.read())\n",
        "f.close()"
      ]
    },
    {
      "cell_type": "code",
      "execution_count": null,
      "metadata": {
        "id": "SAq81vdk74yv"
      },
      "outputs": [],
      "source": [
        "# 추가(append)모드로 파일 열기\n",
        "f = open(\"abc.txt\", \"a\")\n",
        "f.write(\"H I J K L M N O P Q R S T U V W X Y Z\")\n",
        "f.close()"
      ]
    },
    {
      "cell_type": "code",
      "execution_count": null,
      "metadata": {
        "colab": {
          "base_uri": "https://localhost:8080/"
        },
        "id": "fAhuEUmv74yx",
        "outputId": "461c851d-8cd0-4274-b77b-6a8f86def7f3"
      },
      "outputs": [
        {
          "output_type": "stream",
          "name": "stdout",
          "text": [
            "a b c d e f g H I J K L M N O P Q R S T U V W X Y Z\n"
          ]
        }
      ],
      "source": [
        "# 읽기모드로 파일 열기\n",
        "f = open(\"abc.txt\", 'r')\n",
        "lines = f.readlines()\n",
        "for line in lines:\n",
        "    print(line)\n",
        "f.close()"
      ]
    },
    {
      "cell_type": "code",
      "execution_count": null,
      "metadata": {
        "colab": {
          "base_uri": "https://localhost:8080/"
        },
        "id": "f2YDR1RL74yy",
        "outputId": "7aa5d72a-a1a8-4b3b-8748-ed6f3caa6875"
      },
      "outputs": [
        {
          "output_type": "stream",
          "name": "stdout",
          "text": [
            "2020년 3월 12일 금요일\n",
            "날씨 맑음\n"
          ]
        }
      ],
      "source": [
        "with open(\"일기.txt\", \"w\") as f:\n",
        "    f.write(\"2020년 3월 12일 금요일\\n\")\n",
        "\n",
        "with open(\"일기.txt\", \"a\") as f:\n",
        "    f.write(\"날씨 맑음\")\n",
        "\n",
        "with open(\"일기.txt\", \"r\") as f:\n",
        "    print(f.read())"
      ]
    },
    {
      "cell_type": "markdown",
      "metadata": {
        "id": "tWymUuvJ74y0"
      },
      "source": [
        "--------\n",
        "<div class=\"alert alert-warning\">\n",
        "[Tip]파일 삭제\n",
        "</div>"
      ]
    },
    {
      "cell_type": "code",
      "execution_count": null,
      "metadata": {
        "colab": {
          "base_uri": "https://localhost:8080/"
        },
        "id": "IqYQ_2rR74y1",
        "outputId": "43de661c-e416-4a35-812b-01e11fe8988f"
      },
      "outputs": [
        {
          "output_type": "stream",
          "name": "stdout",
          "text": [
            "abc.txt파일을 삭제하였습니다.\n"
          ]
        }
      ],
      "source": [
        "import os\n",
        "\n",
        "fileName = \"abc.txt\"\n",
        "if os.path.exists(fileName):\n",
        "    os.remove(fileName)\n",
        "    print(\"{}파일을 삭제하였습니다.\".format(fileName))\n",
        "else:\n",
        "    print(\"{}파일이 존재하지 않습니다.\".format(fileName))"
      ]
    },
    {
      "cell_type": "markdown",
      "metadata": {
        "id": "kGnSgES_74y2"
      },
      "source": [
        "-----------"
      ]
    }
  ],
  "metadata": {
    "kernelspec": {
      "display_name": "Python 3",
      "language": "python",
      "name": "python3"
    },
    "language_info": {
      "codemirror_mode": {
        "name": "ipython",
        "version": 3
      },
      "file_extension": ".py",
      "mimetype": "text/x-python",
      "name": "python",
      "nbconvert_exporter": "python",
      "pygments_lexer": "ipython3",
      "version": "3.8.5"
    },
    "toc": {
      "base_numbering": 1,
      "nav_menu": {},
      "number_sections": false,
      "sideBar": true,
      "skip_h1_title": false,
      "title_cell": "Table of Contents",
      "title_sidebar": "Contents",
      "toc_cell": false,
      "toc_position": {},
      "toc_section_display": true,
      "toc_window_display": false
    },
    "colab": {
      "provenance": [],
      "toc_visible": true,
      "include_colab_link": true
    }
  },
  "nbformat": 4,
  "nbformat_minor": 0
}