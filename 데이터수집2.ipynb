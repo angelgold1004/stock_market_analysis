{
  "nbformat": 4,
  "nbformat_minor": 0,
  "metadata": {
    "colab": {
      "private_outputs": true,
      "provenance": [],
      "include_colab_link": true
    },
    "kernelspec": {
      "name": "python3",
      "display_name": "Python 3"
    },
    "language_info": {
      "name": "python"
    }
  },
  "cells": [
    {
      "cell_type": "markdown",
      "metadata": {
        "id": "view-in-github",
        "colab_type": "text"
      },
      "source": [
        "<a href=\"https://colab.research.google.com/github/angelgold1004/stock_market_analysis/blob/main/%EB%8D%B0%EC%9D%B4%ED%84%B0%EC%88%98%EC%A7%912.ipynb\" target=\"_parent\"><img src=\"https://colab.research.google.com/assets/colab-badge.svg\" alt=\"Open In Colab\"/></a>"
      ]
    },
    {
      "cell_type": "code",
      "execution_count": null,
      "metadata": {
        "id": "uPrXSTfLuLF7"
      },
      "outputs": [],
      "source": [
        "from bs4 import BeautifulSoup\n",
        "import requests\n",
        "import pandas as pd\n",
        "import datetime\n",
        "\n",
        "title_list = []\n",
        "url_list = []\n",
        "article_list = []\n",
        "date_list = []\n",
        "\n",
        "for i in range(7):\n",
        "    date= datetime.date.today() - datetime.timedelta(days = i)\n",
        "    url = f'https://finance.naver.com/news/mainnews.naver?date={date}'\n",
        "    response = requests.get(url)\n",
        "    soup = BeautifulSoup(response.text, 'lxml')\n",
        "\n",
        "    titles = soup.find_all('dd', {'class': 'articleSubject'})\n",
        "    for t in titles:  \n",
        "        title = t.text.strip()\n",
        "        url = t.find('a').get('href')\n",
        "        response = requests.get('https://finance.naver.com/' + url) # 상세 기사 페이지\n",
        "        soup = BeautifulSoup(response.text, 'lxml')\n",
        "        article = soup.find('div', {'class': 'articleCont'})\n",
        "        \n",
        "        title_list.append(title)\n",
        "        url_list.append(url)\n",
        "        if article is not None:\n",
        "            article_list.append(article.text.strip())\n",
        "        else:\n",
        "            article_list.append('')\n",
        "        date_list.append(date)\n",
        "\n",
        "df = pd.DataFrame({'기사제목': title_list, '본문url': url_list, '기사본문': article_list, '날짜': date_list})\n",
        "df.to_csv('article.csv', encoding = 'euc-kr')"
      ]
    },
    {
      "cell_type": "code",
      "source": [
        "df.head()"
      ],
      "metadata": {
        "id": "XFyWl4ulqPgh"
      },
      "execution_count": null,
      "outputs": []
    },
    {
      "cell_type": "code",
      "source": [],
      "metadata": {
        "id": "UKnJkgvpuke3"
      },
      "execution_count": null,
      "outputs": []
    }
  ]
}