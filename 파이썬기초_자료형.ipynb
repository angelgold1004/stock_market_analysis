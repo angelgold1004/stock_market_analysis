{
  "cells": [
    {
      "cell_type": "markdown",
      "metadata": {
        "id": "view-in-github",
        "colab_type": "text"
      },
      "source": [
        "<a href=\"https://colab.research.google.com/github/angelgold1004/stock_market_analysis/blob/main/%ED%8C%8C%EC%9D%B4%EC%8D%AC%EA%B8%B0%EC%B4%88_%EC%9E%90%EB%A3%8C%ED%98%95.ipynb\" target=\"_parent\"><img src=\"https://colab.research.google.com/assets/colab-badge.svg\" alt=\"Open In Colab\"/></a>"
      ]
    },
    {
      "cell_type": "markdown",
      "metadata": {
        "id": "6JBhoBgFa1Lj"
      },
      "source": [
        "# 2.2.1 기본 데이터 타입"
      ]
    },
    {
      "cell_type": "markdown",
      "source": [
        "**type(변수이름)**\n",
        "\n",
        "- 변수의 자료형을 반환하는 함수\n",
        "<br><br>\n",
        "\n",
        "**파이썬의 기본 자료형**\n",
        "\n",
        "- 숫자(numeric): 정수(integer), 실수(float)\n",
        "- 불리언(boolean): True, False\n",
        "- 문자형(String)"
      ],
      "metadata": {
        "id": "z4rzt8LObPOo"
      }
    },
    {
      "cell_type": "markdown",
      "metadata": {
        "id": "iDWCo7iba1Lm"
      },
      "source": [
        "## ① 숫자형(numeric)\n",
        " 정수(integer), 실수(float)"
      ]
    },
    {
      "cell_type": "code",
      "execution_count": null,
      "metadata": {
        "colab": {
          "base_uri": "https://localhost:8080/"
        },
        "id": "lcFf0IZ0a1Ln",
        "outputId": "32f33851-0b60-4a2e-e350-245289d1a0fb"
      },
      "outputs": [
        {
          "output_type": "execute_result",
          "data": {
            "text/plain": [
              "int"
            ]
          },
          "metadata": {},
          "execution_count": 1
        }
      ],
      "source": [
        "x, y, z = 10, 3.14, -25\n",
        "type(x)"
      ]
    },
    {
      "cell_type": "code",
      "execution_count": null,
      "metadata": {
        "colab": {
          "base_uri": "https://localhost:8080/"
        },
        "id": "zhGWv9D1a1Lp",
        "outputId": "3fa2da60-5b5c-4328-eec6-97664a9b6915"
      },
      "outputs": [
        {
          "output_type": "execute_result",
          "data": {
            "text/plain": [
              "float"
            ]
          },
          "metadata": {},
          "execution_count": 2
        }
      ],
      "source": [
        "type(y)"
      ]
    },
    {
      "cell_type": "code",
      "execution_count": null,
      "metadata": {
        "colab": {
          "base_uri": "https://localhost:8080/"
        },
        "id": "ucOC6Qgxa1Lp",
        "outputId": "76103cde-4ef2-40ee-e02b-55ab46dc5c3e"
      },
      "outputs": [
        {
          "output_type": "execute_result",
          "data": {
            "text/plain": [
              "int"
            ]
          },
          "metadata": {},
          "execution_count": 3
        }
      ],
      "source": [
        "type(z)"
      ]
    },
    {
      "cell_type": "code",
      "execution_count": null,
      "metadata": {
        "colab": {
          "base_uri": "https://localhost:8080/"
        },
        "id": "LxG5U-X3a1Lq",
        "outputId": "771e8d57-08be-4dd7-9865-d8d67289620b"
      },
      "outputs": [
        {
          "output_type": "execute_result",
          "data": {
            "text/plain": [
              "17000.0"
            ]
          },
          "metadata": {},
          "execution_count": 4
        }
      ],
      "source": [
        "a = 17e3\n",
        "a"
      ]
    },
    {
      "cell_type": "code",
      "execution_count": null,
      "metadata": {
        "colab": {
          "base_uri": "https://localhost:8080/"
        },
        "id": "m7mYMfKba1Lq",
        "outputId": "2c59087a-bb84-46ea-c865-0eb262d909f5"
      },
      "outputs": [
        {
          "output_type": "execute_result",
          "data": {
            "text/plain": [
              "17000.0"
            ]
          },
          "metadata": {},
          "execution_count": 5
        }
      ],
      "source": [
        "b = 17E3 #대문자 E를 사용 할 수도 있습니다.\n",
        "b"
      ]
    },
    {
      "cell_type": "code",
      "execution_count": null,
      "metadata": {
        "colab": {
          "base_uri": "https://localhost:8080/"
        },
        "id": "WpTxbp2Ua1Lq",
        "outputId": "60ac9475-46dc-4dee-c5ca-047830ebe277"
      },
      "outputs": [
        {
          "output_type": "execute_result",
          "data": {
            "text/plain": [
              "-3520.0"
            ]
          },
          "metadata": {},
          "execution_count": 6
        }
      ],
      "source": [
        "c = -35.2e2\n",
        "c"
      ]
    },
    {
      "cell_type": "code",
      "execution_count": null,
      "metadata": {
        "colab": {
          "base_uri": "https://localhost:8080/"
        },
        "id": "jMuLQ7Saa1Lr",
        "outputId": "f82dff1f-5878-4909-d0e5-7cfb4a032adf"
      },
      "outputs": [
        {
          "output_type": "execute_result",
          "data": {
            "text/plain": [
              "2.75"
            ]
          },
          "metadata": {},
          "execution_count": 7
        }
      ],
      "source": [
        "d = 275e-2\n",
        "d"
      ]
    },
    {
      "cell_type": "markdown",
      "metadata": {
        "id": "hg0emplra1Lr"
      },
      "source": [
        "## ② 불리언(boolean)\n",
        "참(True)/거짓(False)"
      ]
    },
    {
      "cell_type": "code",
      "execution_count": null,
      "metadata": {
        "colab": {
          "base_uri": "https://localhost:8080/"
        },
        "id": "ADXaOwRZa1Lr",
        "outputId": "d32ee569-e0c5-4dd9-a91f-f22d7cf85f7b"
      },
      "outputs": [
        {
          "output_type": "execute_result",
          "data": {
            "text/plain": [
              "True"
            ]
          },
          "metadata": {},
          "execution_count": 8
        }
      ],
      "source": [
        "a = 100 > 50\n",
        "a"
      ]
    },
    {
      "cell_type": "code",
      "execution_count": null,
      "metadata": {
        "colab": {
          "base_uri": "https://localhost:8080/"
        },
        "id": "G8vH3Lema1Lr",
        "outputId": "2d34847c-f640-4e2f-cb9f-c8c408624cc3"
      },
      "outputs": [
        {
          "output_type": "execute_result",
          "data": {
            "text/plain": [
              "False"
            ]
          },
          "metadata": {},
          "execution_count": 9
        }
      ],
      "source": [
        "b = 100 < 50\n",
        "b"
      ]
    },
    {
      "cell_type": "code",
      "execution_count": null,
      "metadata": {
        "colab": {
          "base_uri": "https://localhost:8080/"
        },
        "id": "LjfVlzVja1Ls",
        "outputId": "116efa0b-d1da-4c9c-8687-4f5dd01b9d0c"
      },
      "outputs": [
        {
          "output_type": "execute_result",
          "data": {
            "text/plain": [
              "False"
            ]
          },
          "metadata": {},
          "execution_count": 10
        }
      ],
      "source": [
        "c = 100 == 50 # 등호 두 개(==)는 좌측의 값과 우측의 값이 같은지 아닌지를 판단하는 조건식\n",
        "c"
      ]
    },
    {
      "cell_type": "code",
      "execution_count": null,
      "metadata": {
        "colab": {
          "base_uri": "https://localhost:8080/"
        },
        "id": "4G4n0-8Ca1Ls",
        "outputId": "d46e28d8-884e-4e07-e4a3-6fe5041ef828"
      },
      "outputs": [
        {
          "output_type": "execute_result",
          "data": {
            "text/plain": [
              "bool"
            ]
          },
          "metadata": {},
          "execution_count": 11
        }
      ],
      "source": [
        "type(c)"
      ]
    },
    {
      "cell_type": "markdown",
      "metadata": {
        "id": "qFtUROg4a1Ls"
      },
      "source": [
        "## ③ 문자형(string, str) "
      ]
    },
    {
      "cell_type": "code",
      "execution_count": null,
      "metadata": {
        "colab": {
          "base_uri": "https://localhost:8080/"
        },
        "id": "R7DE1KOza1Ls",
        "outputId": "c6bfbf19-b2d6-4db8-bd69-b190888070fa"
      },
      "outputs": [
        {
          "output_type": "execute_result",
          "data": {
            "text/plain": [
              "str"
            ]
          },
          "metadata": {},
          "execution_count": 12
        }
      ],
      "source": [
        "# 따옴표로 감싼 문자, 'Hello'와 \"Hello\"는 동일\n",
        "a = 'Hello'\n",
        "type(a)"
      ]
    },
    {
      "cell_type": "code",
      "execution_count": null,
      "metadata": {
        "colab": {
          "base_uri": "https://localhost:8080/"
        },
        "id": "8ymj3f_ta1Ls",
        "outputId": "7fb3243d-f446-4e1c-d656-1e3b947e3147"
      },
      "outputs": [
        {
          "output_type": "execute_result",
          "data": {
            "text/plain": [
              "str"
            ]
          },
          "metadata": {},
          "execution_count": 13
        }
      ],
      "source": [
        "# 따옴표로 감싼 숫자는 문자\n",
        "b = '123'\n",
        "type(b)"
      ]
    },
    {
      "cell_type": "code",
      "execution_count": null,
      "metadata": {
        "colab": {
          "base_uri": "https://localhost:8080/"
        },
        "id": "xKJxSW5Ca1Lt",
        "outputId": "5b1099f5-9577-4248-e708-0007b55a2e37"
      },
      "outputs": [
        {
          "output_type": "execute_result",
          "data": {
            "text/plain": [
              "str"
            ]
          },
          "metadata": {},
          "execution_count": 14
        }
      ],
      "source": [
        "# 띄어쓰기가 포함된 문자열\n",
        "c = \"How are you?\"\n",
        "type(c)"
      ]
    },
    {
      "cell_type": "markdown",
      "source": [
        "여러 줄로 이루어진 문자열은 따옴표를 세 개 연달아 이어서(`\"\"\" \"\"\"`) 선언합니다. "
      ],
      "metadata": {
        "id": "kWHeXtKScZMI"
      }
    },
    {
      "cell_type": "code",
      "execution_count": null,
      "metadata": {
        "colab": {
          "base_uri": "https://localhost:8080/",
          "height": 136
        },
        "id": "MEk5Up-Sa1Lt",
        "outputId": "079f81ad-805d-471a-c099-a37f3c1ad4d2"
      },
      "outputs": [
        {
          "output_type": "error",
          "ename": "SyntaxError",
          "evalue": "ignored",
          "traceback": [
            "\u001b[0;36m  File \u001b[0;32m\"<ipython-input-15-1ed65e62d316>\"\u001b[0;36m, line \u001b[0;32m1\u001b[0m\n\u001b[0;31m    x = \"Twinkle, twinkle, little star,\u001b[0m\n\u001b[0m                                       ^\u001b[0m\n\u001b[0;31mSyntaxError\u001b[0m\u001b[0;31m:\u001b[0m EOL while scanning string literal\n"
          ]
        }
      ],
      "source": [
        "x = \"Twinkle, twinkle, little star,\n",
        "How I wonder what you are!\n",
        "Up above the world so high,\n",
        "Like a diamond in the sky.\"\n",
        "x"
      ]
    },
    {
      "cell_type": "code",
      "execution_count": null,
      "metadata": {
        "colab": {
          "base_uri": "https://localhost:8080/",
          "height": 54
        },
        "id": "u8gAQKSFa1Lt",
        "outputId": "652a93bd-511a-45db-ff8d-959d3782bd34"
      },
      "outputs": [
        {
          "output_type": "execute_result",
          "data": {
            "text/plain": [
              "'Twinkle, twinkle, little star,\\nHow I wonder what you are!\\nUp above the world so high,\\nLike a diamond in the sky.'"
            ],
            "application/vnd.google.colaboratory.intrinsic+json": {
              "type": "string"
            }
          },
          "metadata": {},
          "execution_count": 16
        }
      ],
      "source": [
        "x = \"\"\"Twinkle, twinkle, little star,\n",
        "How I wonder what you are!\n",
        "Up above the world so high,\n",
        "Like a diamond in the sky.\"\"\"\n",
        "x"
      ]
    },
    {
      "cell_type": "markdown",
      "source": [
        "문자열 안에 따옴표가 들어간다면? `'`와 `\"`를 번갈아서 사용해보세요."
      ],
      "metadata": {
        "id": "IaCpd2fpcmtM"
      }
    },
    {
      "cell_type": "code",
      "execution_count": null,
      "metadata": {
        "colab": {
          "base_uri": "https://localhost:8080/",
          "height": 136
        },
        "id": "nPBu28wVa1Lt",
        "outputId": "19d11141-311e-4a36-e366-4d85969fb719"
      },
      "outputs": [
        {
          "output_type": "error",
          "ename": "SyntaxError",
          "evalue": "ignored",
          "traceback": [
            "\u001b[0;36m  File \u001b[0;32m\"<ipython-input-17-4275bbce3138>\"\u001b[0;36m, line \u001b[0;32m1\u001b[0m\n\u001b[0;31m    y = \"He said, \"I love you.\"\"\u001b[0m\n\u001b[0m                   ^\u001b[0m\n\u001b[0;31mSyntaxError\u001b[0m\u001b[0;31m:\u001b[0m invalid syntax\n"
          ]
        }
      ],
      "source": [
        "y = \"He said, \"I love you.\"\"\n",
        "y"
      ]
    },
    {
      "cell_type": "code",
      "execution_count": null,
      "metadata": {
        "colab": {
          "base_uri": "https://localhost:8080/",
          "height": 35
        },
        "id": "8WMgj9vCa1Lt",
        "outputId": "17a335ab-f491-449e-cd53-554fad45394c"
      },
      "outputs": [
        {
          "output_type": "execute_result",
          "data": {
            "text/plain": [
              "'He said, \"I love you.\"'"
            ],
            "application/vnd.google.colaboratory.intrinsic+json": {
              "type": "string"
            }
          },
          "metadata": {},
          "execution_count": 23
        }
      ],
      "source": [
        "y = 'He said, \"I love you.\"'\n",
        "y"
      ]
    },
    {
      "cell_type": "code",
      "execution_count": null,
      "metadata": {
        "colab": {
          "base_uri": "https://localhost:8080/",
          "height": 35
        },
        "id": "W6NP9BXxa1Lt",
        "outputId": "dfd14ee5-c555-48d3-db13-0c5fe06910f2"
      },
      "outputs": [
        {
          "output_type": "execute_result",
          "data": {
            "text/plain": [
              "'He said, \"I love you.\"'"
            ],
            "application/vnd.google.colaboratory.intrinsic+json": {
              "type": "string"
            }
          },
          "metadata": {},
          "execution_count": 24
        }
      ],
      "source": [
        "y = \"He said, \\\"I love you.\\\"\"\n",
        "y"
      ]
    },
    {
      "cell_type": "markdown",
      "metadata": {
        "id": "rvhoXKZYa1Lu"
      },
      "source": [
        "# 2.2.2 데이터 타입의 형 변환"
      ]
    },
    {
      "cell_type": "markdown",
      "source": [
        "- int(): 정수형으로 변환\n",
        "- float(): 실수형으로 변환\n",
        "- bool(): 불리언형으로 변환\n",
        "- str(): 문자열로 변환"
      ],
      "metadata": {
        "id": "5-8GTaxzb3mJ"
      }
    },
    {
      "cell_type": "code",
      "execution_count": null,
      "metadata": {
        "colab": {
          "base_uri": "https://localhost:8080/",
          "height": 35
        },
        "id": "XbqbB2mta1Lu",
        "outputId": "c6c43643-67ec-4f3f-acd6-0ce9684433e1"
      },
      "outputs": [
        {
          "output_type": "execute_result",
          "data": {
            "text/plain": [
              "'2050'"
            ],
            "application/vnd.google.colaboratory.intrinsic+json": {
              "type": "string"
            }
          },
          "metadata": {},
          "execution_count": 25
        }
      ],
      "source": [
        "temperature = '20'\n",
        "humidity = '50'\n",
        "\n",
        "temperature + humidity"
      ]
    },
    {
      "cell_type": "code",
      "execution_count": null,
      "metadata": {
        "colab": {
          "base_uri": "https://localhost:8080/"
        },
        "id": "SgZKhTVTa1Lu",
        "outputId": "b004b933-cab9-46f4-bbc8-83c7952b4cca"
      },
      "outputs": [
        {
          "output_type": "execute_result",
          "data": {
            "text/plain": [
              "70"
            ]
          },
          "metadata": {},
          "execution_count": 26
        }
      ],
      "source": [
        "int(temperature) + int(humidity)"
      ]
    },
    {
      "cell_type": "code",
      "execution_count": null,
      "metadata": {
        "id": "MjgNhn-ra1Lu"
      },
      "outputs": [],
      "source": [
        "a = 0\n",
        "b = 500\n",
        "c = ''\n",
        "d = '하하호호'"
      ]
    },
    {
      "cell_type": "code",
      "execution_count": null,
      "metadata": {
        "colab": {
          "base_uri": "https://localhost:8080/"
        },
        "id": "GG_OxIFla1Lu",
        "outputId": "a873c765-95c9-40f7-93af-81526d2b8f51"
      },
      "outputs": [
        {
          "output_type": "execute_result",
          "data": {
            "text/plain": [
              "False"
            ]
          },
          "metadata": {},
          "execution_count": 28
        }
      ],
      "source": [
        "bool(a)"
      ]
    },
    {
      "cell_type": "code",
      "execution_count": null,
      "metadata": {
        "colab": {
          "base_uri": "https://localhost:8080/"
        },
        "id": "MqDrYe8da1Lu",
        "outputId": "ad66af08-9725-4b3a-9470-e7b28459f5e4"
      },
      "outputs": [
        {
          "output_type": "execute_result",
          "data": {
            "text/plain": [
              "True"
            ]
          },
          "metadata": {},
          "execution_count": 29
        }
      ],
      "source": [
        "bool(b)"
      ]
    },
    {
      "cell_type": "code",
      "execution_count": null,
      "metadata": {
        "colab": {
          "base_uri": "https://localhost:8080/"
        },
        "id": "naWVGNwAa1Lu",
        "outputId": "2ded6286-321d-459e-8af3-64a4c02a434b"
      },
      "outputs": [
        {
          "output_type": "execute_result",
          "data": {
            "text/plain": [
              "False"
            ]
          },
          "metadata": {},
          "execution_count": 30
        }
      ],
      "source": [
        "bool(c)"
      ]
    },
    {
      "cell_type": "code",
      "execution_count": null,
      "metadata": {
        "colab": {
          "base_uri": "https://localhost:8080/"
        },
        "id": "6hp4Xegna1Lv",
        "outputId": "f9b92ca5-45c8-467f-bbd5-73aae57d1307"
      },
      "outputs": [
        {
          "output_type": "execute_result",
          "data": {
            "text/plain": [
              "True"
            ]
          },
          "metadata": {},
          "execution_count": 31
        }
      ],
      "source": [
        "bool(d)"
      ]
    },
    {
      "cell_type": "markdown",
      "metadata": {
        "id": "7r5zgcAsa1Lv"
      },
      "source": [
        "# (참고)\n",
        "\n",
        "다음 데이터 형변환의 결과가 어떻게 될지 예상해 보세요"
      ]
    },
    {
      "cell_type": "code",
      "execution_count": null,
      "metadata": {
        "id": "7TwPXRHSa1Lv"
      },
      "outputs": [],
      "source": [
        "# int() 형변환\n",
        "x = int(100)\n",
        "y = int(29.8)\n",
        "z = int(\"50\")"
      ]
    },
    {
      "cell_type": "code",
      "execution_count": null,
      "metadata": {
        "id": "uqrKNQCAa1Lv"
      },
      "outputs": [],
      "source": [
        "# float() 형변환\n",
        "a = float(100)\n",
        "b = float(29.8)\n",
        "c = float(\"50\")\n",
        "d = float(\"3.14\")"
      ]
    },
    {
      "cell_type": "code",
      "execution_count": null,
      "metadata": {
        "id": "21pV5vEMa1Lv"
      },
      "outputs": [],
      "source": [
        "# float() 형변환\n",
        "x = str(\"text\")\n",
        "y = str(100)\n",
        "z = str(3.14)"
      ]
    }
  ],
  "metadata": {
    "kernelspec": {
      "display_name": "Python 3",
      "language": "python",
      "name": "python3"
    },
    "language_info": {
      "codemirror_mode": {
        "name": "ipython",
        "version": 3
      },
      "file_extension": ".py",
      "mimetype": "text/x-python",
      "name": "python",
      "nbconvert_exporter": "python",
      "pygments_lexer": "ipython3",
      "version": "3.8.5"
    },
    "toc": {
      "base_numbering": 1,
      "nav_menu": {},
      "number_sections": false,
      "sideBar": true,
      "skip_h1_title": false,
      "title_cell": "Table of Contents",
      "title_sidebar": "Contents",
      "toc_cell": false,
      "toc_position": {},
      "toc_section_display": true,
      "toc_window_display": true
    },
    "colab": {
      "provenance": [],
      "include_colab_link": true
    }
  },
  "nbformat": 4,
  "nbformat_minor": 0
}